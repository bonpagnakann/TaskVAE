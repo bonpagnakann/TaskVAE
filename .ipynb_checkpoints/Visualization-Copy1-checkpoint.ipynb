{
 "cells": [
  {
   "cell_type": "code",
   "execution_count": 2,
   "id": "bbebce1a-b684-4368-be54-ef173c3a21d5",
   "metadata": {},
   "outputs": [],
   "source": [
    "from IPython.display import display, Image\n",
    "import os\n",
    "import re\n",
    "\n"
   ]
  },
  {
   "cell_type": "code",
   "execution_count": 15,
   "id": "32953367-8478-4ff4-8820-d2afafa13351",
   "metadata": {},
   "outputs": [
    {
     "ename": "SyntaxError",
     "evalue": "invalid syntax (2850903029.py, line 4)",
     "output_type": "error",
     "traceback": [
      "\u001b[1;36m  Cell \u001b[1;32mIn[15], line 4\u001b[1;36m\u001b[0m\n\u001b[1;33m    persons = [\"P0_Results\", \"Person_1\", \"Person_2\"]P2_Results\u001b[0m\n\u001b[1;37m                                                    ^\u001b[0m\n\u001b[1;31mSyntaxError\u001b[0m\u001b[1;31m:\u001b[0m invalid syntax\n"
     ]
    }
   ],
   "source": [
    "# Define dataset structure\n",
    "datasets = [\"HHAR\", \"MotionSense\"]  # Add \"UCI\" if needed\n",
    "scenarios = [\"33\", \"42\", \"222\", \"231\", \"321\", \"3111\", \"21111\"]\n",
    "persons = [\"P0_Results\", \"P1_Results\", \"P2_Results\"]\n",
    "acc_types = [\"All_Acc\", \"New_Acc\", \"Old_Acc\"]\n",
    "\n",
    "# Function to find the latest task number from boxplot filenames\n",
    "def find_latest_task(folder_path):\n",
    "    boxplot_files = [f for f in os.listdir(folder_path) if re.match(r\".*_Box_plot_Acc_Task_\\d+\\.png$\", f)]\n",
    "    if not boxplot_files:\n",
    "        return None\n",
    "    # Extract the task numbers and find the largest one\n",
    "    latest_file = max(boxplot_files, key=lambda f: int(re.search(r\"Task_(\\d+)\", f).group(1)))\n",
    "    return latest_file\n",
    "\n",
    "# Loop through datasets, scenarios, and persons\n",
    "for dataset in datasets:\n",
    "    for scenario in scenarios:\n",
    "        print(f\"## {dataset} - Scenario {scenario}\")\n",
    "\n",
    "        for person in persons:\n",
    "            for acc in acc_types:\n",
    "                folder_path = os.path.abspath(f\"{dataset}/{scenario}/{person}/Figures/{acc}\")\n",
    "\n",
    "                if not os.path.exists(folder_path):\n",
    "                    continue\n",
    "                \n",
    "                # Find the bar chart file\n",
    "                barchart_file = next((f for f in os.listdir(folder_path) if f.endswith(\"Acc.png\") and \"Box_plot\" not in f), None)\n",
    "                \n",
    "                # Find the latest task boxplot\n",
    "                latest_boxplot_file = find_latest_task(folder_path)\n",
    "\n",
    "                # Display the bar chart\n",
    "                if barchart_file:\n",
    "                    barchart_path = os.path.join(folder_path, barchart_file)\n",
    "                    if os.path.exists(barchart_path):\n",
    "                        print(f\"### Bar Chart: {barchart_file}\")\n",
    "                        display(Image(filename=barchart_path, width=500))\n",
    "                    else:\n",
    "                        print(f\"❌ Bar Chart File Not Found: {barchart_path}\")\n",
    "\n",
    "                # Display the latest task boxplot\n",
    "                if latest_boxplot_file:\n",
    "                    boxplot_path = os.path.join(folder_path, latest_boxplot_file)\n",
    "                    if os.path.exists(boxplot_path):\n",
    "                        print(f\"### Final Task Boxplot: {latest_boxplot_file}\")\n",
    "                        display(Image(filename=boxplot_path, width=500))\n",
    "                    else:\n",
    "                        print(f\"❌ Boxplot File Not Found: {boxplot_path}\")"
   ]
  },
  {
   "cell_type": "code",
   "execution_count": 11,
   "id": "418c25e3-cd5d-4ca6-a780-3b88ed2252a9",
   "metadata": {},
   "outputs": [
    {
     "data": {
      "text/html": [
       "<h3>HHAR - 33 - P0_Results</h3><table><tr><td><img src=\"HHAR\\33\\P0_Results\\Figures\\All_Acc\\HHAR_Box_plot_Acc_Task_2.png\" width=\"400\"><br>Boxplot: HHAR_Box_plot_Acc_Task_2.png</td><td><img src=\"HHAR\\33\\P0_Results\\Figures\\All_Acc\\HHAR_P0_All_Acc.png\" width=\"400\"><br>Barchart: HHAR_P0_All_Acc.png</td><td><img src=\"HHAR\\33\\P0_Results\\Figures\\New_Acc\\HHAR_P0_New_Acc.png\" width=\"400\"><br>Barchart: HHAR_P0_New_Acc.png</td><td><img src=\"HHAR\\33\\P0_Results\\Figures\\Old_Acc\\HHAR_P0_Old_Acc.png\" width=\"400\"><br>Barchart: HHAR_P0_Old_Acc.png</td></tr></table><br>"
      ],
      "text/plain": [
       "<IPython.core.display.HTML object>"
      ]
     },
     "metadata": {},
     "output_type": "display_data"
    },
    {
     "data": {
      "text/html": [
       "<h3>HHAR - 33 - P1_Results</h3><table><tr><td><img src=\"HHAR\\33\\P1_Results\\Figures\\All_Acc\\HHAR_Box_plot_Acc_Task_2.png\" width=\"400\"><br>Boxplot: HHAR_Box_plot_Acc_Task_2.png</td><td><img src=\"HHAR\\33\\P1_Results\\Figures\\All_Acc\\HHAR_P1_All_Acc.png\" width=\"400\"><br>Barchart: HHAR_P1_All_Acc.png</td><td><img src=\"HHAR\\33\\P1_Results\\Figures\\New_Acc\\HHAR_P1_New_Acc.png\" width=\"400\"><br>Barchart: HHAR_P1_New_Acc.png</td><td><img src=\"HHAR\\33\\P1_Results\\Figures\\Old_Acc\\HHAR_P1_Old_Acc.png\" width=\"400\"><br>Barchart: HHAR_P1_Old_Acc.png</td></tr></table><br>"
      ],
      "text/plain": [
       "<IPython.core.display.HTML object>"
      ]
     },
     "metadata": {},
     "output_type": "display_data"
    },
    {
     "data": {
      "text/html": [
       "<h3>HHAR - 33 - P2_Results</h3><table><tr><td><img src=\"HHAR\\33\\P2_Results\\Figures\\All_Acc\\HHAR_Box_plot_Acc_Task_2.png\" width=\"400\"><br>Boxplot: HHAR_Box_plot_Acc_Task_2.png</td><td><img src=\"HHAR\\33\\P2_Results\\Figures\\All_Acc\\HHAR_P2_All_Acc.png\" width=\"400\"><br>Barchart: HHAR_P2_All_Acc.png</td><td><img src=\"HHAR\\33\\P2_Results\\Figures\\New_Acc\\HHAR_P2_New_Acc.png\" width=\"400\"><br>Barchart: HHAR_P2_New_Acc.png</td><td><img src=\"HHAR\\33\\P2_Results\\Figures\\Old_Acc\\HHAR_P2_Old_Acc.png\" width=\"400\"><br>Barchart: HHAR_P2_Old_Acc.png</td></tr></table><br>"
      ],
      "text/plain": [
       "<IPython.core.display.HTML object>"
      ]
     },
     "metadata": {},
     "output_type": "display_data"
    },
    {
     "data": {
      "text/html": [
       "<h3>HHAR - 42 - P0_Results</h3><table><tr><td><img src=\"HHAR\\42\\P0_Results\\Figures\\All_Acc\\HHAR_Box_plot_Acc_Task_2.png\" width=\"400\"><br>Boxplot: HHAR_Box_plot_Acc_Task_2.png</td><td><img src=\"HHAR\\42\\P0_Results\\Figures\\All_Acc\\HHAR_P0_All_Acc.png\" width=\"400\"><br>Barchart: HHAR_P0_All_Acc.png</td><td><img src=\"HHAR\\42\\P0_Results\\Figures\\New_Acc\\HHAR_P0_New_Acc.png\" width=\"400\"><br>Barchart: HHAR_P0_New_Acc.png</td><td><img src=\"HHAR\\42\\P0_Results\\Figures\\Old_Acc\\HHAR_P0_Old_Acc.png\" width=\"400\"><br>Barchart: HHAR_P0_Old_Acc.png</td></tr></table><br>"
      ],
      "text/plain": [
       "<IPython.core.display.HTML object>"
      ]
     },
     "metadata": {},
     "output_type": "display_data"
    },
    {
     "data": {
      "text/html": [
       "<h3>HHAR - 42 - P1_Results</h3><table><tr><td><img src=\"HHAR\\42\\P1_Results\\Figures\\All_Acc\\HHAR_Box_plot_Acc_Task_2.png\" width=\"400\"><br>Boxplot: HHAR_Box_plot_Acc_Task_2.png</td><td><img src=\"HHAR\\42\\P1_Results\\Figures\\All_Acc\\HHAR_P1_All_Acc.png\" width=\"400\"><br>Barchart: HHAR_P1_All_Acc.png</td><td><img src=\"HHAR\\42\\P1_Results\\Figures\\New_Acc\\HHAR_P1_New_Acc.png\" width=\"400\"><br>Barchart: HHAR_P1_New_Acc.png</td><td><img src=\"HHAR\\42\\P1_Results\\Figures\\Old_Acc\\HHAR_P1_Old_Acc.png\" width=\"400\"><br>Barchart: HHAR_P1_Old_Acc.png</td></tr></table><br>"
      ],
      "text/plain": [
       "<IPython.core.display.HTML object>"
      ]
     },
     "metadata": {},
     "output_type": "display_data"
    },
    {
     "data": {
      "text/html": [
       "<h3>HHAR - 42 - P2_Results</h3><table><tr><td><img src=\"HHAR\\42\\P2_Results\\Figures\\All_Acc\\HHAR_Box_plot_Acc_Task_2.png\" width=\"400\"><br>Boxplot: HHAR_Box_plot_Acc_Task_2.png</td><td><img src=\"HHAR\\42\\P2_Results\\Figures\\All_Acc\\HHAR_P2_All_Acc.png\" width=\"400\"><br>Barchart: HHAR_P2_All_Acc.png</td><td><img src=\"HHAR\\42\\P2_Results\\Figures\\New_Acc\\HHAR_P2_New_Acc.png\" width=\"400\"><br>Barchart: HHAR_P2_New_Acc.png</td><td><img src=\"HHAR\\42\\P2_Results\\Figures\\Old_Acc\\HHAR_P2_Old_Acc.png\" width=\"400\"><br>Barchart: HHAR_P2_Old_Acc.png</td></tr></table><br>"
      ],
      "text/plain": [
       "<IPython.core.display.HTML object>"
      ]
     },
     "metadata": {},
     "output_type": "display_data"
    },
    {
     "data": {
      "text/html": [
       "<h3>HHAR - 222 - P0_Results</h3><table><tr><td><img src=\"HHAR\\222\\P0_Results\\Figures\\All_Acc\\HHAR_Box_plot_Acc_Task_3.png\" width=\"400\"><br>Boxplot: HHAR_Box_plot_Acc_Task_3.png</td><td><img src=\"HHAR\\222\\P0_Results\\Figures\\All_Acc\\HHAR_P0_All_Acc.png\" width=\"400\"><br>Barchart: HHAR_P0_All_Acc.png</td><td><img src=\"HHAR\\222\\P0_Results\\Figures\\New_Acc\\HHAR_P0_New_Acc.png\" width=\"400\"><br>Barchart: HHAR_P0_New_Acc.png</td><td><img src=\"HHAR\\222\\P0_Results\\Figures\\Old_Acc\\HHAR_P0_Old_Acc.png\" width=\"400\"><br>Barchart: HHAR_P0_Old_Acc.png</td></tr></table><br>"
      ],
      "text/plain": [
       "<IPython.core.display.HTML object>"
      ]
     },
     "metadata": {},
     "output_type": "display_data"
    },
    {
     "data": {
      "text/html": [
       "<h3>HHAR - 222 - P1_Results</h3><table><tr><td><img src=\"HHAR\\222\\P1_Results\\Figures\\All_Acc\\HHAR_Box_plot_Acc_Task_3.png\" width=\"400\"><br>Boxplot: HHAR_Box_plot_Acc_Task_3.png</td><td><img src=\"HHAR\\222\\P1_Results\\Figures\\All_Acc\\HHAR_P1_All_Acc.png\" width=\"400\"><br>Barchart: HHAR_P1_All_Acc.png</td><td><img src=\"HHAR\\222\\P1_Results\\Figures\\New_Acc\\HHAR_P1_New_Acc.png\" width=\"400\"><br>Barchart: HHAR_P1_New_Acc.png</td><td><img src=\"HHAR\\222\\P1_Results\\Figures\\Old_Acc\\HHAR_P1_Old_Acc.png\" width=\"400\"><br>Barchart: HHAR_P1_Old_Acc.png</td></tr></table><br>"
      ],
      "text/plain": [
       "<IPython.core.display.HTML object>"
      ]
     },
     "metadata": {},
     "output_type": "display_data"
    },
    {
     "data": {
      "text/html": [
       "<h3>HHAR - 222 - P2_Results</h3><table><tr><td><img src=\"HHAR\\222\\P2_Results\\Figures\\All_Acc\\HHAR_Box_plot_Acc_Task_3.png\" width=\"400\"><br>Boxplot: HHAR_Box_plot_Acc_Task_3.png</td><td><img src=\"HHAR\\222\\P2_Results\\Figures\\All_Acc\\HHAR_P2_All_Acc.png\" width=\"400\"><br>Barchart: HHAR_P2_All_Acc.png</td><td><img src=\"HHAR\\222\\P2_Results\\Figures\\New_Acc\\HHAR_P2_New_Acc.png\" width=\"400\"><br>Barchart: HHAR_P2_New_Acc.png</td><td><img src=\"HHAR\\222\\P2_Results\\Figures\\Old_Acc\\HHAR_P2_Old_Acc.png\" width=\"400\"><br>Barchart: HHAR_P2_Old_Acc.png</td></tr></table><br>"
      ],
      "text/plain": [
       "<IPython.core.display.HTML object>"
      ]
     },
     "metadata": {},
     "output_type": "display_data"
    },
    {
     "data": {
      "text/html": [
       "<h3>HHAR - 231 - P0_Results</h3><table><tr><td><img src=\"HHAR\\231\\P0_Results\\Figures\\All_Acc\\HHAR_Box_plot_Acc_Task_3.png\" width=\"400\"><br>Boxplot: HHAR_Box_plot_Acc_Task_3.png</td><td><img src=\"HHAR\\231\\P0_Results\\Figures\\All_Acc\\HHAR_P0_All_Acc.png\" width=\"400\"><br>Barchart: HHAR_P0_All_Acc.png</td><td><img src=\"HHAR\\231\\P0_Results\\Figures\\New_Acc\\HHAR_P0_New_Acc.png\" width=\"400\"><br>Barchart: HHAR_P0_New_Acc.png</td><td><img src=\"HHAR\\231\\P0_Results\\Figures\\Old_Acc\\HHAR_P0_Old_Acc.png\" width=\"400\"><br>Barchart: HHAR_P0_Old_Acc.png</td></tr></table><br>"
      ],
      "text/plain": [
       "<IPython.core.display.HTML object>"
      ]
     },
     "metadata": {},
     "output_type": "display_data"
    },
    {
     "data": {
      "text/html": [
       "<h3>HHAR - 231 - P1_Results</h3><table><tr><td><img src=\"HHAR\\231\\P1_Results\\Figures\\All_Acc\\HHAR_Box_plot_Acc_Task_3.png\" width=\"400\"><br>Boxplot: HHAR_Box_plot_Acc_Task_3.png</td><td><img src=\"HHAR\\231\\P1_Results\\Figures\\All_Acc\\HHAR_P1_All_Acc.png\" width=\"400\"><br>Barchart: HHAR_P1_All_Acc.png</td><td><img src=\"HHAR\\231\\P1_Results\\Figures\\New_Acc\\HHAR_P1_New_Acc.png\" width=\"400\"><br>Barchart: HHAR_P1_New_Acc.png</td><td><img src=\"HHAR\\231\\P1_Results\\Figures\\Old_Acc\\HHAR_P1_Old_Acc.png\" width=\"400\"><br>Barchart: HHAR_P1_Old_Acc.png</td></tr></table><br>"
      ],
      "text/plain": [
       "<IPython.core.display.HTML object>"
      ]
     },
     "metadata": {},
     "output_type": "display_data"
    },
    {
     "data": {
      "text/html": [
       "<h3>HHAR - 231 - P2_Results</h3><table><tr><td><img src=\"HHAR\\231\\P2_Results\\Figures\\All_Acc\\HHAR_Box_plot_Acc_Task_3.png\" width=\"400\"><br>Boxplot: HHAR_Box_plot_Acc_Task_3.png</td><td><img src=\"HHAR\\231\\P2_Results\\Figures\\All_Acc\\HHAR_P2_All_Acc.png\" width=\"400\"><br>Barchart: HHAR_P2_All_Acc.png</td><td><img src=\"HHAR\\231\\P2_Results\\Figures\\New_Acc\\HHAR_P2_New_Acc.png\" width=\"400\"><br>Barchart: HHAR_P2_New_Acc.png</td><td><img src=\"HHAR\\231\\P2_Results\\Figures\\Old_Acc\\HHAR_P2_Old_Acc.png\" width=\"400\"><br>Barchart: HHAR_P2_Old_Acc.png</td></tr></table><br>"
      ],
      "text/plain": [
       "<IPython.core.display.HTML object>"
      ]
     },
     "metadata": {},
     "output_type": "display_data"
    },
    {
     "data": {
      "text/html": [
       "<h3>HHAR - 321 - P0_Results</h3><table><tr><td><img src=\"HHAR\\321\\P0_Results\\Figures\\All_Acc\\HHAR_Box_plot_Acc_Task_3.png\" width=\"400\"><br>Boxplot: HHAR_Box_plot_Acc_Task_3.png</td><td><img src=\"HHAR\\321\\P0_Results\\Figures\\All_Acc\\HHAR_P0_All_Acc.png\" width=\"400\"><br>Barchart: HHAR_P0_All_Acc.png</td><td><img src=\"HHAR\\321\\P0_Results\\Figures\\New_Acc\\HHAR_P0_New_Acc.png\" width=\"400\"><br>Barchart: HHAR_P0_New_Acc.png</td><td><img src=\"HHAR\\321\\P0_Results\\Figures\\Old_Acc\\HHAR_P0_Old_Acc.png\" width=\"400\"><br>Barchart: HHAR_P0_Old_Acc.png</td></tr></table><br>"
      ],
      "text/plain": [
       "<IPython.core.display.HTML object>"
      ]
     },
     "metadata": {},
     "output_type": "display_data"
    },
    {
     "data": {
      "text/html": [
       "<h3>HHAR - 321 - P1_Results</h3><table><tr><td><img src=\"HHAR\\321\\P1_Results\\Figures\\All_Acc\\HHAR_Box_plot_Acc_Task_3.png\" width=\"400\"><br>Boxplot: HHAR_Box_plot_Acc_Task_3.png</td><td><img src=\"HHAR\\321\\P1_Results\\Figures\\All_Acc\\HHAR_P1_All_Acc.png\" width=\"400\"><br>Barchart: HHAR_P1_All_Acc.png</td><td><img src=\"HHAR\\321\\P1_Results\\Figures\\New_Acc\\HHAR_P1_New_Acc.png\" width=\"400\"><br>Barchart: HHAR_P1_New_Acc.png</td><td><img src=\"HHAR\\321\\P1_Results\\Figures\\Old_Acc\\HHAR_P1_Old_Acc.png\" width=\"400\"><br>Barchart: HHAR_P1_Old_Acc.png</td></tr></table><br>"
      ],
      "text/plain": [
       "<IPython.core.display.HTML object>"
      ]
     },
     "metadata": {},
     "output_type": "display_data"
    },
    {
     "data": {
      "text/html": [
       "<h3>HHAR - 321 - P2_Results</h3><table><tr><td><img src=\"HHAR\\321\\P2_Results\\Figures\\All_Acc\\HHAR_Box_plot_Acc_Task_3.png\" width=\"400\"><br>Boxplot: HHAR_Box_plot_Acc_Task_3.png</td><td><img src=\"HHAR\\321\\P2_Results\\Figures\\All_Acc\\HHAR_P2_All_Acc.png\" width=\"400\"><br>Barchart: HHAR_P2_All_Acc.png</td><td><img src=\"HHAR\\321\\P2_Results\\Figures\\New_Acc\\HHAR_P2_New_Acc.png\" width=\"400\"><br>Barchart: HHAR_P2_New_Acc.png</td><td><img src=\"HHAR\\321\\P2_Results\\Figures\\Old_Acc\\HHAR_P2_Old_Acc.png\" width=\"400\"><br>Barchart: HHAR_P2_Old_Acc.png</td></tr></table><br>"
      ],
      "text/plain": [
       "<IPython.core.display.HTML object>"
      ]
     },
     "metadata": {},
     "output_type": "display_data"
    },
    {
     "data": {
      "text/html": [
       "<h3>HHAR - 3111 - P0_Results</h3><table><tr><td><img src=\"HHAR\\3111\\P0_Results\\Figures\\All_Acc\\HHAR_Box_plot_Acc_Task_4.png\" width=\"400\"><br>Boxplot: HHAR_Box_plot_Acc_Task_4.png</td><td><img src=\"HHAR\\3111\\P0_Results\\Figures\\All_Acc\\HHAR_P0_All_Acc.png\" width=\"400\"><br>Barchart: HHAR_P0_All_Acc.png</td><td><img src=\"HHAR\\3111\\P0_Results\\Figures\\New_Acc\\HHAR_P0_New_Acc.png\" width=\"400\"><br>Barchart: HHAR_P0_New_Acc.png</td><td><img src=\"HHAR\\3111\\P0_Results\\Figures\\Old_Acc\\HHAR_P0_Old_Acc.png\" width=\"400\"><br>Barchart: HHAR_P0_Old_Acc.png</td></tr></table><br>"
      ],
      "text/plain": [
       "<IPython.core.display.HTML object>"
      ]
     },
     "metadata": {},
     "output_type": "display_data"
    },
    {
     "data": {
      "text/html": [
       "<h3>HHAR - 3111 - P1_Results</h3><table><tr><td><img src=\"HHAR\\3111\\P1_Results\\Figures\\All_Acc\\HHAR_Box_plot_Acc_Task_4.png\" width=\"400\"><br>Boxplot: HHAR_Box_plot_Acc_Task_4.png</td><td><img src=\"HHAR\\3111\\P1_Results\\Figures\\All_Acc\\HHAR_P1_All_Acc.png\" width=\"400\"><br>Barchart: HHAR_P1_All_Acc.png</td><td><img src=\"HHAR\\3111\\P1_Results\\Figures\\New_Acc\\HHAR_P1_New_Acc.png\" width=\"400\"><br>Barchart: HHAR_P1_New_Acc.png</td><td><img src=\"HHAR\\3111\\P1_Results\\Figures\\Old_Acc\\HHAR_P1_Old_Acc.png\" width=\"400\"><br>Barchart: HHAR_P1_Old_Acc.png</td></tr></table><br>"
      ],
      "text/plain": [
       "<IPython.core.display.HTML object>"
      ]
     },
     "metadata": {},
     "output_type": "display_data"
    },
    {
     "data": {
      "text/html": [
       "<h3>HHAR - 3111 - P2_Results</h3><table><tr><td><img src=\"HHAR\\3111\\P2_Results\\Figures\\All_Acc\\HHAR_Box_plot_Acc_Task_4.png\" width=\"400\"><br>Boxplot: HHAR_Box_plot_Acc_Task_4.png</td><td><img src=\"HHAR\\3111\\P2_Results\\Figures\\All_Acc\\HHAR_P2_All_Acc.png\" width=\"400\"><br>Barchart: HHAR_P2_All_Acc.png</td><td><img src=\"HHAR\\3111\\P2_Results\\Figures\\New_Acc\\HHAR_P2_New_Acc.png\" width=\"400\"><br>Barchart: HHAR_P2_New_Acc.png</td><td><img src=\"HHAR\\3111\\P2_Results\\Figures\\Old_Acc\\HHAR_P2_Old_Acc.png\" width=\"400\"><br>Barchart: HHAR_P2_Old_Acc.png</td></tr></table><br>"
      ],
      "text/plain": [
       "<IPython.core.display.HTML object>"
      ]
     },
     "metadata": {},
     "output_type": "display_data"
    },
    {
     "data": {
      "text/html": [
       "<h3>HHAR - 21111 - P0_Results</h3><table><tr><td><img src=\"HHAR\\21111\\P0_Results\\Figures\\All_Acc\\HHAR_Box_plot_Acc_Task_5.png\" width=\"400\"><br>Boxplot: HHAR_Box_plot_Acc_Task_5.png</td><td><img src=\"HHAR\\21111\\P0_Results\\Figures\\All_Acc\\HHAR_P0_All_Acc.png\" width=\"400\"><br>Barchart: HHAR_P0_All_Acc.png</td><td><img src=\"HHAR\\21111\\P0_Results\\Figures\\New_Acc\\HHAR_P0_New_Acc.png\" width=\"400\"><br>Barchart: HHAR_P0_New_Acc.png</td><td><img src=\"HHAR\\21111\\P0_Results\\Figures\\Old_Acc\\HHAR_P0_Old_Acc.png\" width=\"400\"><br>Barchart: HHAR_P0_Old_Acc.png</td></tr></table><br>"
      ],
      "text/plain": [
       "<IPython.core.display.HTML object>"
      ]
     },
     "metadata": {},
     "output_type": "display_data"
    },
    {
     "data": {
      "text/html": [
       "<h3>HHAR - 21111 - P1_Results</h3><table><tr><td><img src=\"HHAR\\21111\\P1_Results\\Figures\\All_Acc\\HHAR_Box_plot_Acc_Task_5.png\" width=\"400\"><br>Boxplot: HHAR_Box_plot_Acc_Task_5.png</td><td><img src=\"HHAR\\21111\\P1_Results\\Figures\\All_Acc\\HHAR_P1_All_Acc.png\" width=\"400\"><br>Barchart: HHAR_P1_All_Acc.png</td><td><img src=\"HHAR\\21111\\P1_Results\\Figures\\New_Acc\\HHAR_P1_New_Acc.png\" width=\"400\"><br>Barchart: HHAR_P1_New_Acc.png</td><td><img src=\"HHAR\\21111\\P1_Results\\Figures\\Old_Acc\\HHAR_P1_Old_Acc.png\" width=\"400\"><br>Barchart: HHAR_P1_Old_Acc.png</td></tr></table><br>"
      ],
      "text/plain": [
       "<IPython.core.display.HTML object>"
      ]
     },
     "metadata": {},
     "output_type": "display_data"
    },
    {
     "data": {
      "text/html": [
       "<h3>HHAR - 21111 - P2_Results</h3><table><tr><td><img src=\"HHAR\\21111\\P2_Results\\Figures\\All_Acc\\HHAR_Box_plot_Acc_Task_5.png\" width=\"400\"><br>Boxplot: HHAR_Box_plot_Acc_Task_5.png</td><td><img src=\"HHAR\\21111\\P2_Results\\Figures\\All_Acc\\HHAR_P2_All_Acc.png\" width=\"400\"><br>Barchart: HHAR_P2_All_Acc.png</td><td><img src=\"HHAR\\21111\\P2_Results\\Figures\\New_Acc\\HHAR_P2_New_Acc.png\" width=\"400\"><br>Barchart: HHAR_P2_New_Acc.png</td><td><img src=\"HHAR\\21111\\P2_Results\\Figures\\Old_Acc\\HHAR_P2_Old_Acc.png\" width=\"400\"><br>Barchart: HHAR_P2_Old_Acc.png</td></tr></table><br>"
      ],
      "text/plain": [
       "<IPython.core.display.HTML object>"
      ]
     },
     "metadata": {},
     "output_type": "display_data"
    },
    {
     "data": {
      "text/html": [
       "<h3>MotionSense - 33 - P0_Results</h3><table><tr><td><img src=\"MotionSense\\33\\P0_Results\\Figures\\All_Acc\\MotionSense_Box_plot_Acc_Task_2.png\" width=\"400\"><br>Boxplot: MotionSense_Box_plot_Acc_Task_2.png</td><td><img src=\"MotionSense\\33\\P0_Results\\Figures\\All_Acc\\MotionSense_P0_All_Acc.png\" width=\"400\"><br>Barchart: MotionSense_P0_All_Acc.png</td><td><img src=\"MotionSense\\33\\P0_Results\\Figures\\New_Acc\\MotionSense_P0_New_Acc.png\" width=\"400\"><br>Barchart: MotionSense_P0_New_Acc.png</td><td><img src=\"MotionSense\\33\\P0_Results\\Figures\\Old_Acc\\MotionSense_P0_Old_Acc.png\" width=\"400\"><br>Barchart: MotionSense_P0_Old_Acc.png</td></tr></table><br>"
      ],
      "text/plain": [
       "<IPython.core.display.HTML object>"
      ]
     },
     "metadata": {},
     "output_type": "display_data"
    },
    {
     "data": {
      "text/html": [
       "<h3>MotionSense - 33 - P1_Results</h3><table><tr><td><img src=\"MotionSense\\33\\P1_Results\\Figures\\All_Acc\\MotionSense_Box_plot_Acc_Task_2.png\" width=\"400\"><br>Boxplot: MotionSense_Box_plot_Acc_Task_2.png</td><td><img src=\"MotionSense\\33\\P1_Results\\Figures\\All_Acc\\MotionSense_P1_All_Acc.png\" width=\"400\"><br>Barchart: MotionSense_P1_All_Acc.png</td><td><img src=\"MotionSense\\33\\P1_Results\\Figures\\New_Acc\\MotionSense_P1_New_Acc.png\" width=\"400\"><br>Barchart: MotionSense_P1_New_Acc.png</td><td><img src=\"MotionSense\\33\\P1_Results\\Figures\\Old_Acc\\MotionSense_P1_Old_Acc.png\" width=\"400\"><br>Barchart: MotionSense_P1_Old_Acc.png</td></tr></table><br>"
      ],
      "text/plain": [
       "<IPython.core.display.HTML object>"
      ]
     },
     "metadata": {},
     "output_type": "display_data"
    },
    {
     "data": {
      "text/html": [
       "<h3>MotionSense - 33 - P2_Results</h3><table><tr><td><img src=\"MotionSense\\33\\P2_Results\\Figures\\All_Acc\\MotionSense_Box_plot_Acc_Task_2.png\" width=\"400\"><br>Boxplot: MotionSense_Box_plot_Acc_Task_2.png</td><td><img src=\"MotionSense\\33\\P2_Results\\Figures\\All_Acc\\MotionSense_P2_All_Acc.png\" width=\"400\"><br>Barchart: MotionSense_P2_All_Acc.png</td><td><img src=\"MotionSense\\33\\P2_Results\\Figures\\New_Acc\\MotionSense_P2_New_Acc.png\" width=\"400\"><br>Barchart: MotionSense_P2_New_Acc.png</td><td><img src=\"MotionSense\\33\\P2_Results\\Figures\\Old_Acc\\MotionSense_P2_Old_Acc.png\" width=\"400\"><br>Barchart: MotionSense_P2_Old_Acc.png</td></tr></table><br>"
      ],
      "text/plain": [
       "<IPython.core.display.HTML object>"
      ]
     },
     "metadata": {},
     "output_type": "display_data"
    },
    {
     "data": {
      "text/html": [
       "<h3>MotionSense - 42 - P0_Results</h3><table><tr><td><img src=\"MotionSense\\42\\P0_Results\\Figures\\All_Acc\\MotionSense_Box_plot_Acc_Task_2.png\" width=\"400\"><br>Boxplot: MotionSense_Box_plot_Acc_Task_2.png</td><td><img src=\"MotionSense\\42\\P0_Results\\Figures\\All_Acc\\MotionSense_P0_All_Acc.png\" width=\"400\"><br>Barchart: MotionSense_P0_All_Acc.png</td><td><img src=\"MotionSense\\42\\P0_Results\\Figures\\New_Acc\\MotionSense_P0_New_Acc.png\" width=\"400\"><br>Barchart: MotionSense_P0_New_Acc.png</td><td><img src=\"MotionSense\\42\\P0_Results\\Figures\\Old_Acc\\MotionSense_P0_Old_Acc.png\" width=\"400\"><br>Barchart: MotionSense_P0_Old_Acc.png</td></tr></table><br>"
      ],
      "text/plain": [
       "<IPython.core.display.HTML object>"
      ]
     },
     "metadata": {},
     "output_type": "display_data"
    },
    {
     "data": {
      "text/html": [
       "<h3>MotionSense - 42 - P1_Results</h3><table><tr><td><img src=\"MotionSense\\42\\P1_Results\\Figures\\All_Acc\\MotionSense_Box_plot_Acc_Task_2.png\" width=\"400\"><br>Boxplot: MotionSense_Box_plot_Acc_Task_2.png</td><td><img src=\"MotionSense\\42\\P1_Results\\Figures\\All_Acc\\MotionSense_P1_All_Acc.png\" width=\"400\"><br>Barchart: MotionSense_P1_All_Acc.png</td><td><img src=\"MotionSense\\42\\P1_Results\\Figures\\New_Acc\\MotionSense_P1_New_Acc.png\" width=\"400\"><br>Barchart: MotionSense_P1_New_Acc.png</td><td><img src=\"MotionSense\\42\\P1_Results\\Figures\\Old_Acc\\MotionSense_P1_Old_Acc.png\" width=\"400\"><br>Barchart: MotionSense_P1_Old_Acc.png</td></tr></table><br>"
      ],
      "text/plain": [
       "<IPython.core.display.HTML object>"
      ]
     },
     "metadata": {},
     "output_type": "display_data"
    },
    {
     "data": {
      "text/html": [
       "<h3>MotionSense - 42 - P2_Results</h3><table><tr><td><img src=\"MotionSense\\42\\P2_Results\\Figures\\All_Acc\\MotionSense_Box_plot_Acc_Task_2.png\" width=\"400\"><br>Boxplot: MotionSense_Box_plot_Acc_Task_2.png</td><td><img src=\"MotionSense\\42\\P2_Results\\Figures\\All_Acc\\MotionSense_P2_All_Acc.png\" width=\"400\"><br>Barchart: MotionSense_P2_All_Acc.png</td><td><img src=\"MotionSense\\42\\P2_Results\\Figures\\New_Acc\\MotionSense_P2_New_Acc.png\" width=\"400\"><br>Barchart: MotionSense_P2_New_Acc.png</td><td><img src=\"MotionSense\\42\\P2_Results\\Figures\\Old_Acc\\MotionSense_P2_Old_Acc.png\" width=\"400\"><br>Barchart: MotionSense_P2_Old_Acc.png</td></tr></table><br>"
      ],
      "text/plain": [
       "<IPython.core.display.HTML object>"
      ]
     },
     "metadata": {},
     "output_type": "display_data"
    },
    {
     "data": {
      "text/html": [
       "<h3>MotionSense - 222 - P0_Results</h3><table><tr><td><img src=\"MotionSense\\222\\P0_Results\\Figures\\All_Acc\\MotionSense_Box_plot_Acc_Task_3.png\" width=\"400\"><br>Boxplot: MotionSense_Box_plot_Acc_Task_3.png</td><td><img src=\"MotionSense\\222\\P0_Results\\Figures\\All_Acc\\MotionSense_P0_All_Acc.png\" width=\"400\"><br>Barchart: MotionSense_P0_All_Acc.png</td><td><img src=\"MotionSense\\222\\P0_Results\\Figures\\New_Acc\\MotionSense_P0_New_Acc.png\" width=\"400\"><br>Barchart: MotionSense_P0_New_Acc.png</td><td><img src=\"MotionSense\\222\\P0_Results\\Figures\\Old_Acc\\MotionSense_P0_Old_Acc.png\" width=\"400\"><br>Barchart: MotionSense_P0_Old_Acc.png</td></tr></table><br>"
      ],
      "text/plain": [
       "<IPython.core.display.HTML object>"
      ]
     },
     "metadata": {},
     "output_type": "display_data"
    },
    {
     "data": {
      "text/html": [
       "<h3>MotionSense - 222 - P1_Results</h3><table><tr><td><img src=\"MotionSense\\222\\P1_Results\\Figures\\All_Acc\\MotionSense_Box_plot_Acc_Task_3.png\" width=\"400\"><br>Boxplot: MotionSense_Box_plot_Acc_Task_3.png</td><td><img src=\"MotionSense\\222\\P1_Results\\Figures\\All_Acc\\MotionSense_P1_All_Acc.png\" width=\"400\"><br>Barchart: MotionSense_P1_All_Acc.png</td><td><img src=\"MotionSense\\222\\P1_Results\\Figures\\New_Acc\\MotionSense_P1_New_Acc.png\" width=\"400\"><br>Barchart: MotionSense_P1_New_Acc.png</td><td><img src=\"MotionSense\\222\\P1_Results\\Figures\\Old_Acc\\MotionSense_P1_Old_Acc.png\" width=\"400\"><br>Barchart: MotionSense_P1_Old_Acc.png</td></tr></table><br>"
      ],
      "text/plain": [
       "<IPython.core.display.HTML object>"
      ]
     },
     "metadata": {},
     "output_type": "display_data"
    },
    {
     "data": {
      "text/html": [
       "<h3>MotionSense - 222 - P2_Results</h3><table><tr><td><img src=\"MotionSense\\222\\P2_Results\\Figures\\All_Acc\\MotionSense_Box_plot_Acc_Task_3.png\" width=\"400\"><br>Boxplot: MotionSense_Box_plot_Acc_Task_3.png</td><td><img src=\"MotionSense\\222\\P2_Results\\Figures\\All_Acc\\MotionSense_P2_All_Acc.png\" width=\"400\"><br>Barchart: MotionSense_P2_All_Acc.png</td><td><img src=\"MotionSense\\222\\P2_Results\\Figures\\New_Acc\\MotionSense_P2_New_Acc.png\" width=\"400\"><br>Barchart: MotionSense_P2_New_Acc.png</td><td><img src=\"MotionSense\\222\\P2_Results\\Figures\\Old_Acc\\MotionSense_P2_Old_Acc.png\" width=\"400\"><br>Barchart: MotionSense_P2_Old_Acc.png</td></tr></table><br>"
      ],
      "text/plain": [
       "<IPython.core.display.HTML object>"
      ]
     },
     "metadata": {},
     "output_type": "display_data"
    },
    {
     "data": {
      "text/html": [
       "<h3>MotionSense - 231 - P0_Results</h3><table><tr><td><img src=\"MotionSense\\231\\P0_Results\\Figures\\All_Acc\\MotionSense_Box_plot_Acc_Task_3.png\" width=\"400\"><br>Boxplot: MotionSense_Box_plot_Acc_Task_3.png</td><td><img src=\"MotionSense\\231\\P0_Results\\Figures\\All_Acc\\MotionSense_P0_All_Acc.png\" width=\"400\"><br>Barchart: MotionSense_P0_All_Acc.png</td><td><img src=\"MotionSense\\231\\P0_Results\\Figures\\New_Acc\\MotionSense_P0_New_Acc.png\" width=\"400\"><br>Barchart: MotionSense_P0_New_Acc.png</td><td><img src=\"MotionSense\\231\\P0_Results\\Figures\\Old_Acc\\MotionSense_P0_Old_Acc.png\" width=\"400\"><br>Barchart: MotionSense_P0_Old_Acc.png</td></tr></table><br>"
      ],
      "text/plain": [
       "<IPython.core.display.HTML object>"
      ]
     },
     "metadata": {},
     "output_type": "display_data"
    },
    {
     "data": {
      "text/html": [
       "<h3>MotionSense - 231 - P1_Results</h3><table><tr><td><img src=\"MotionSense\\231\\P1_Results\\Figures\\All_Acc\\MotionSense_Box_plot_Acc_Task_3.png\" width=\"400\"><br>Boxplot: MotionSense_Box_plot_Acc_Task_3.png</td><td><img src=\"MotionSense\\231\\P1_Results\\Figures\\All_Acc\\MotionSense_P1_All_Acc.png\" width=\"400\"><br>Barchart: MotionSense_P1_All_Acc.png</td><td><img src=\"MotionSense\\231\\P1_Results\\Figures\\New_Acc\\MotionSense_P1_New_Acc.png\" width=\"400\"><br>Barchart: MotionSense_P1_New_Acc.png</td><td><img src=\"MotionSense\\231\\P1_Results\\Figures\\Old_Acc\\MotionSense_P1_Old_Acc.png\" width=\"400\"><br>Barchart: MotionSense_P1_Old_Acc.png</td></tr></table><br>"
      ],
      "text/plain": [
       "<IPython.core.display.HTML object>"
      ]
     },
     "metadata": {},
     "output_type": "display_data"
    },
    {
     "data": {
      "text/html": [
       "<h3>MotionSense - 231 - P2_Results</h3><table><tr><td><img src=\"MotionSense\\231\\P2_Results\\Figures\\All_Acc\\MotionSense_Box_plot_Acc_Task_3.png\" width=\"400\"><br>Boxplot: MotionSense_Box_plot_Acc_Task_3.png</td><td><img src=\"MotionSense\\231\\P2_Results\\Figures\\All_Acc\\MotionSense_P2_All_Acc.png\" width=\"400\"><br>Barchart: MotionSense_P2_All_Acc.png</td><td><img src=\"MotionSense\\231\\P2_Results\\Figures\\New_Acc\\MotionSense_P2_New_Acc.png\" width=\"400\"><br>Barchart: MotionSense_P2_New_Acc.png</td><td><img src=\"MotionSense\\231\\P2_Results\\Figures\\Old_Acc\\MotionSense_P2_Old_Acc.png\" width=\"400\"><br>Barchart: MotionSense_P2_Old_Acc.png</td></tr></table><br>"
      ],
      "text/plain": [
       "<IPython.core.display.HTML object>"
      ]
     },
     "metadata": {},
     "output_type": "display_data"
    },
    {
     "data": {
      "text/html": [
       "<h3>MotionSense - 321 - P0_Results</h3><table><tr><td><img src=\"MotionSense\\321\\P0_Results\\Figures\\All_Acc\\MotionSense_Box_plot_Acc_Task_3.png\" width=\"400\"><br>Boxplot: MotionSense_Box_plot_Acc_Task_3.png</td><td><img src=\"MotionSense\\321\\P0_Results\\Figures\\All_Acc\\MotionSense_P0_All_Acc.png\" width=\"400\"><br>Barchart: MotionSense_P0_All_Acc.png</td><td><img src=\"MotionSense\\321\\P0_Results\\Figures\\New_Acc\\MotionSense_P0_New_Acc.png\" width=\"400\"><br>Barchart: MotionSense_P0_New_Acc.png</td><td><img src=\"MotionSense\\321\\P0_Results\\Figures\\Old_Acc\\MotionSense_P0_Old_Acc.png\" width=\"400\"><br>Barchart: MotionSense_P0_Old_Acc.png</td></tr></table><br>"
      ],
      "text/plain": [
       "<IPython.core.display.HTML object>"
      ]
     },
     "metadata": {},
     "output_type": "display_data"
    },
    {
     "data": {
      "text/html": [
       "<h3>MotionSense - 321 - P1_Results</h3><table><tr><td><img src=\"MotionSense\\321\\P1_Results\\Figures\\All_Acc\\MotionSense_Box_plot_Acc_Task_3.png\" width=\"400\"><br>Boxplot: MotionSense_Box_plot_Acc_Task_3.png</td><td><img src=\"MotionSense\\321\\P1_Results\\Figures\\All_Acc\\MotionSense_P1_All_Acc.png\" width=\"400\"><br>Barchart: MotionSense_P1_All_Acc.png</td><td><img src=\"MotionSense\\321\\P1_Results\\Figures\\New_Acc\\MotionSense_P1_New_Acc.png\" width=\"400\"><br>Barchart: MotionSense_P1_New_Acc.png</td><td><img src=\"MotionSense\\321\\P1_Results\\Figures\\Old_Acc\\MotionSense_P1_Old_Acc.png\" width=\"400\"><br>Barchart: MotionSense_P1_Old_Acc.png</td></tr></table><br>"
      ],
      "text/plain": [
       "<IPython.core.display.HTML object>"
      ]
     },
     "metadata": {},
     "output_type": "display_data"
    },
    {
     "data": {
      "text/html": [
       "<h3>MotionSense - 321 - P2_Results</h3><table><tr><td><img src=\"MotionSense\\321\\P2_Results\\Figures\\All_Acc\\MotionSense_Box_plot_Acc_Task_3.png\" width=\"400\"><br>Boxplot: MotionSense_Box_plot_Acc_Task_3.png</td><td><img src=\"MotionSense\\321\\P2_Results\\Figures\\All_Acc\\MotionSense_P2_All_Acc.png\" width=\"400\"><br>Barchart: MotionSense_P2_All_Acc.png</td><td><img src=\"MotionSense\\321\\P2_Results\\Figures\\New_Acc\\MotionSense_P2_New_Acc.png\" width=\"400\"><br>Barchart: MotionSense_P2_New_Acc.png</td><td><img src=\"MotionSense\\321\\P2_Results\\Figures\\Old_Acc\\MotionSense_P2_Old_Acc.png\" width=\"400\"><br>Barchart: MotionSense_P2_Old_Acc.png</td></tr></table><br>"
      ],
      "text/plain": [
       "<IPython.core.display.HTML object>"
      ]
     },
     "metadata": {},
     "output_type": "display_data"
    },
    {
     "data": {
      "text/html": [
       "<h3>MotionSense - 3111 - P0_Results</h3><table><tr><td><img src=\"MotionSense\\3111\\P0_Results\\Figures\\All_Acc\\MotionSense_Box_plot_Acc_Task_4.png\" width=\"400\"><br>Boxplot: MotionSense_Box_plot_Acc_Task_4.png</td><td><img src=\"MotionSense\\3111\\P0_Results\\Figures\\All_Acc\\MotionSense_P0_All_Acc.png\" width=\"400\"><br>Barchart: MotionSense_P0_All_Acc.png</td><td><img src=\"MotionSense\\3111\\P0_Results\\Figures\\New_Acc\\MotionSense_P0_New_Acc.png\" width=\"400\"><br>Barchart: MotionSense_P0_New_Acc.png</td><td><img src=\"MotionSense\\3111\\P0_Results\\Figures\\Old_Acc\\MotionSense_P0_Old_Acc.png\" width=\"400\"><br>Barchart: MotionSense_P0_Old_Acc.png</td></tr></table><br>"
      ],
      "text/plain": [
       "<IPython.core.display.HTML object>"
      ]
     },
     "metadata": {},
     "output_type": "display_data"
    },
    {
     "data": {
      "text/html": [
       "<h3>MotionSense - 3111 - P1_Results</h3><table><tr><td><img src=\"MotionSense\\3111\\P1_Results\\Figures\\All_Acc\\MotionSense_Box_plot_Acc_Task_4.png\" width=\"400\"><br>Boxplot: MotionSense_Box_plot_Acc_Task_4.png</td><td><img src=\"MotionSense\\3111\\P1_Results\\Figures\\All_Acc\\MotionSense_P1_All_Acc.png\" width=\"400\"><br>Barchart: MotionSense_P1_All_Acc.png</td><td><img src=\"MotionSense\\3111\\P1_Results\\Figures\\New_Acc\\MotionSense_P1_New_Acc.png\" width=\"400\"><br>Barchart: MotionSense_P1_New_Acc.png</td><td><img src=\"MotionSense\\3111\\P1_Results\\Figures\\Old_Acc\\MotionSense_P1_Old_Acc.png\" width=\"400\"><br>Barchart: MotionSense_P1_Old_Acc.png</td></tr></table><br>"
      ],
      "text/plain": [
       "<IPython.core.display.HTML object>"
      ]
     },
     "metadata": {},
     "output_type": "display_data"
    },
    {
     "data": {
      "text/html": [
       "<h3>MotionSense - 3111 - P2_Results</h3><table><tr><td><img src=\"MotionSense\\3111\\P2_Results\\Figures\\All_Acc\\MotionSense_Box_plot_Acc_Task_4.png\" width=\"400\"><br>Boxplot: MotionSense_Box_plot_Acc_Task_4.png</td><td><img src=\"MotionSense\\3111\\P2_Results\\Figures\\All_Acc\\MotionSense_P2_All_Acc.png\" width=\"400\"><br>Barchart: MotionSense_P2_All_Acc.png</td><td><img src=\"MotionSense\\3111\\P2_Results\\Figures\\New_Acc\\MotionSense_P2_New_Acc.png\" width=\"400\"><br>Barchart: MotionSense_P2_New_Acc.png</td><td><img src=\"MotionSense\\3111\\P2_Results\\Figures\\Old_Acc\\MotionSense_P2_Old_Acc.png\" width=\"400\"><br>Barchart: MotionSense_P2_Old_Acc.png</td></tr></table><br>"
      ],
      "text/plain": [
       "<IPython.core.display.HTML object>"
      ]
     },
     "metadata": {},
     "output_type": "display_data"
    },
    {
     "data": {
      "text/html": [
       "<h3>MotionSense - 21111 - P0_Results</h3><table><tr><td><img src=\"MotionSense\\21111\\P0_Results\\Figures\\All_Acc\\MotionSense_Box_plot_Acc_Task_5.png\" width=\"400\"><br>Boxplot: MotionSense_Box_plot_Acc_Task_5.png</td><td><img src=\"MotionSense\\21111\\P0_Results\\Figures\\All_Acc\\MotionSense_P0_All_Acc.png\" width=\"400\"><br>Barchart: MotionSense_P0_All_Acc.png</td><td><img src=\"MotionSense\\21111\\P0_Results\\Figures\\New_Acc\\MotionSense_P0_New_Acc.png\" width=\"400\"><br>Barchart: MotionSense_P0_New_Acc.png</td><td><img src=\"MotionSense\\21111\\P0_Results\\Figures\\Old_Acc\\MotionSense_P0_Old_Acc.png\" width=\"400\"><br>Barchart: MotionSense_P0_Old_Acc.png</td></tr></table><br>"
      ],
      "text/plain": [
       "<IPython.core.display.HTML object>"
      ]
     },
     "metadata": {},
     "output_type": "display_data"
    },
    {
     "data": {
      "text/html": [
       "<h3>MotionSense - 21111 - P1_Results</h3><table><tr><td><img src=\"MotionSense\\21111\\P1_Results\\Figures\\All_Acc\\MotionSense_Box_plot_Acc_Task_5.png\" width=\"400\"><br>Boxplot: MotionSense_Box_plot_Acc_Task_5.png</td><td><img src=\"MotionSense\\21111\\P1_Results\\Figures\\All_Acc\\MotionSense_P1_All_Acc.png\" width=\"400\"><br>Barchart: MotionSense_P1_All_Acc.png</td><td><img src=\"MotionSense\\21111\\P1_Results\\Figures\\New_Acc\\MotionSense_P1_New_Acc.png\" width=\"400\"><br>Barchart: MotionSense_P1_New_Acc.png</td><td><img src=\"MotionSense\\21111\\P1_Results\\Figures\\Old_Acc\\MotionSense_P1_Old_Acc.png\" width=\"400\"><br>Barchart: MotionSense_P1_Old_Acc.png</td></tr></table><br>"
      ],
      "text/plain": [
       "<IPython.core.display.HTML object>"
      ]
     },
     "metadata": {},
     "output_type": "display_data"
    },
    {
     "data": {
      "text/html": [
       "<h3>MotionSense - 21111 - P2_Results</h3><table><tr><td><img src=\"MotionSense\\21111\\P2_Results\\Figures\\All_Acc\\MotionSense_Box_plot_Acc_Task_5.png\" width=\"400\"><br>Boxplot: MotionSense_Box_plot_Acc_Task_5.png</td><td><img src=\"MotionSense\\21111\\P2_Results\\Figures\\All_Acc\\MotionSense_P2_All_Acc.png\" width=\"400\"><br>Barchart: MotionSense_P2_All_Acc.png</td><td><img src=\"MotionSense\\21111\\P2_Results\\Figures\\New_Acc\\MotionSense_P2_New_Acc.png\" width=\"400\"><br>Barchart: MotionSense_P2_New_Acc.png</td><td><img src=\"MotionSense\\21111\\P2_Results\\Figures\\Old_Acc\\MotionSense_P2_Old_Acc.png\" width=\"400\"><br>Barchart: MotionSense_P2_Old_Acc.png</td></tr></table><br>"
      ],
      "text/plain": [
       "<IPython.core.display.HTML object>"
      ]
     },
     "metadata": {},
     "output_type": "display_data"
    }
   ],
   "source": [
    "import os\n",
    "import re\n",
    "from IPython.display import display, HTML\n",
    "\n",
    "# Define dataset structure\n",
    "datasets = [\"HHAR\", \"MotionSense\"]  # Add \"UCI\" if needed\n",
    "scenarios = [\"33\", \"42\", \"222\", \"231\", \"321\", \"3111\", \"21111\"]\n",
    "persons = [\"P0_Results\", \"P1_Results\", \"P2_Results\"]\n",
    "acc_types = [\"All_Acc\", \"New_Acc\", \"Old_Acc\"]\n",
    "\n",
    "# Function to find the latest task number from boxplot filenames\n",
    "def find_latest_task(folder_path):\n",
    "    boxplot_files = [f for f in os.listdir(folder_path) if re.match(r\".*_Box_plot_Acc_Task_\\d+\\.png$\", f)]\n",
    "    if not boxplot_files:\n",
    "        return None\n",
    "    latest_file = max(boxplot_files, key=lambda f: int(re.search(r\"Task_(\\d+)\", f).group(1)))\n",
    "    return latest_file\n",
    "\n",
    "# Loop through datasets, scenarios, and persons\n",
    "for dataset in datasets:\n",
    "    for scenario in scenarios:\n",
    "        for person in persons:\n",
    "            html_content = f\"<h3>{dataset} - {scenario} - {person}</h3><table><tr>\"\n",
    "\n",
    "            # Collect images for this scenario & person\n",
    "            images = []\n",
    "\n",
    "            for acc in acc_types:\n",
    "                folder_path = os.path.abspath(f\"{dataset}/{scenario}/{person}/Figures/{acc}\")\n",
    "\n",
    "                if not os.path.exists(folder_path):\n",
    "                    print(f\"❌ Folder Not Found: {folder_path}\")  # Debug\n",
    "                    continue\n",
    "\n",
    "                # Find the boxplot for All_Acc (only need one)\n",
    "                if acc == \"All_Acc\":\n",
    "                    latest_boxplot_file = find_latest_task(folder_path)\n",
    "                    if latest_boxplot_file:\n",
    "                        boxplot_path = os.path.join(folder_path, latest_boxplot_file)\n",
    "                        rel_boxplot_path = os.path.relpath(boxplot_path, os.getcwd())  # Relative path\n",
    "                        images.append(f'<td><img src=\"{rel_boxplot_path}\" width=\"400\"><br>Boxplot: {latest_boxplot_file}</td>')\n",
    "\n",
    "                # Find the bar chart for each acc type\n",
    "                barchart_file = next((f for f in os.listdir(folder_path) if f.endswith(\"Acc.png\") and \"Box_plot\" not in f), None)\n",
    "                if barchart_file:\n",
    "                    barchart_path = os.path.join(folder_path, barchart_file)\n",
    "                    rel_barchart_path = os.path.relpath(barchart_path, os.getcwd())  # Relative path\n",
    "                    images.append(f'<td><img src=\"{rel_barchart_path}\" width=\"400\"><br>Barchart: {barchart_file}</td>')\n",
    "\n",
    "            # Ensure exactly 4 images are displayed per row\n",
    "            while len(images) < 4:\n",
    "                images.append(\"<td></td>\")  # Empty cell if missing images\n",
    "\n",
    "            html_content += \"\".join(images) + \"</tr></table><br>\"\n",
    "\n",
    "            # Display the formatted table\n",
    "            display(HTML(html_content))\n"
   ]
  },
  {
   "cell_type": "code",
   "execution_count": 13,
   "id": "2f886485-a7b5-4e9a-8f70-6c58e3d08d70",
   "metadata": {},
   "outputs": [
    {
     "data": {
      "text/html": [
       "<h3>HHAR - 33 - P0_Results</h3><table style=\"border-collapse: collapse;\"><tr><tr><td><img src=\"HHAR\\33\\P0_Results\\Figures\\All_Acc\\HHAR_Box_plot_Acc_Task_2.png\" width=\"400\"></td><td><img src=\"HHAR\\33\\P0_Results\\Figures\\All_Acc\\HHAR_P0_All_Acc.png\" width=\"400\"></td></tr><tr><td><img src=\"HHAR\\33\\P0_Results\\Figures\\New_Acc\\HHAR_P0_New_Acc.png\" width=\"400\"></td><td><img src=\"HHAR\\33\\P0_Results\\Figures\\Old_Acc\\HHAR_P0_Old_Acc.png\" width=\"400\"></td></tr></table><br>"
      ],
      "text/plain": [
       "<IPython.core.display.HTML object>"
      ]
     },
     "metadata": {},
     "output_type": "display_data"
    },
    {
     "data": {
      "text/html": [
       "<h3>HHAR - 33 - P1_Results</h3><table style=\"border-collapse: collapse;\"><tr><tr><td><img src=\"HHAR\\33\\P1_Results\\Figures\\All_Acc\\HHAR_Box_plot_Acc_Task_2.png\" width=\"400\"></td><td><img src=\"HHAR\\33\\P1_Results\\Figures\\All_Acc\\HHAR_P1_All_Acc.png\" width=\"400\"></td></tr><tr><td><img src=\"HHAR\\33\\P1_Results\\Figures\\New_Acc\\HHAR_P1_New_Acc.png\" width=\"400\"></td><td><img src=\"HHAR\\33\\P1_Results\\Figures\\Old_Acc\\HHAR_P1_Old_Acc.png\" width=\"400\"></td></tr></table><br>"
      ],
      "text/plain": [
       "<IPython.core.display.HTML object>"
      ]
     },
     "metadata": {},
     "output_type": "display_data"
    },
    {
     "data": {
      "text/html": [
       "<h3>HHAR - 33 - P2_Results</h3><table style=\"border-collapse: collapse;\"><tr><tr><td><img src=\"HHAR\\33\\P2_Results\\Figures\\All_Acc\\HHAR_Box_plot_Acc_Task_2.png\" width=\"400\"></td><td><img src=\"HHAR\\33\\P2_Results\\Figures\\All_Acc\\HHAR_P2_All_Acc.png\" width=\"400\"></td></tr><tr><td><img src=\"HHAR\\33\\P2_Results\\Figures\\New_Acc\\HHAR_P2_New_Acc.png\" width=\"400\"></td><td><img src=\"HHAR\\33\\P2_Results\\Figures\\Old_Acc\\HHAR_P2_Old_Acc.png\" width=\"400\"></td></tr></table><br>"
      ],
      "text/plain": [
       "<IPython.core.display.HTML object>"
      ]
     },
     "metadata": {},
     "output_type": "display_data"
    },
    {
     "data": {
      "text/html": [
       "<h3>HHAR - 42 - P0_Results</h3><table style=\"border-collapse: collapse;\"><tr><tr><td><img src=\"HHAR\\42\\P0_Results\\Figures\\All_Acc\\HHAR_Box_plot_Acc_Task_2.png\" width=\"400\"></td><td><img src=\"HHAR\\42\\P0_Results\\Figures\\All_Acc\\HHAR_P0_All_Acc.png\" width=\"400\"></td></tr><tr><td><img src=\"HHAR\\42\\P0_Results\\Figures\\New_Acc\\HHAR_P0_New_Acc.png\" width=\"400\"></td><td><img src=\"HHAR\\42\\P0_Results\\Figures\\Old_Acc\\HHAR_P0_Old_Acc.png\" width=\"400\"></td></tr></table><br>"
      ],
      "text/plain": [
       "<IPython.core.display.HTML object>"
      ]
     },
     "metadata": {},
     "output_type": "display_data"
    },
    {
     "data": {
      "text/html": [
       "<h3>HHAR - 42 - P1_Results</h3><table style=\"border-collapse: collapse;\"><tr><tr><td><img src=\"HHAR\\42\\P1_Results\\Figures\\All_Acc\\HHAR_Box_plot_Acc_Task_2.png\" width=\"400\"></td><td><img src=\"HHAR\\42\\P1_Results\\Figures\\All_Acc\\HHAR_P1_All_Acc.png\" width=\"400\"></td></tr><tr><td><img src=\"HHAR\\42\\P1_Results\\Figures\\New_Acc\\HHAR_P1_New_Acc.png\" width=\"400\"></td><td><img src=\"HHAR\\42\\P1_Results\\Figures\\Old_Acc\\HHAR_P1_Old_Acc.png\" width=\"400\"></td></tr></table><br>"
      ],
      "text/plain": [
       "<IPython.core.display.HTML object>"
      ]
     },
     "metadata": {},
     "output_type": "display_data"
    },
    {
     "data": {
      "text/html": [
       "<h3>HHAR - 42 - P2_Results</h3><table style=\"border-collapse: collapse;\"><tr><tr><td><img src=\"HHAR\\42\\P2_Results\\Figures\\All_Acc\\HHAR_Box_plot_Acc_Task_2.png\" width=\"400\"></td><td><img src=\"HHAR\\42\\P2_Results\\Figures\\All_Acc\\HHAR_P2_All_Acc.png\" width=\"400\"></td></tr><tr><td><img src=\"HHAR\\42\\P2_Results\\Figures\\New_Acc\\HHAR_P2_New_Acc.png\" width=\"400\"></td><td><img src=\"HHAR\\42\\P2_Results\\Figures\\Old_Acc\\HHAR_P2_Old_Acc.png\" width=\"400\"></td></tr></table><br>"
      ],
      "text/plain": [
       "<IPython.core.display.HTML object>"
      ]
     },
     "metadata": {},
     "output_type": "display_data"
    },
    {
     "data": {
      "text/html": [
       "<h3>HHAR - 222 - P0_Results</h3><table style=\"border-collapse: collapse;\"><tr><tr><td><img src=\"HHAR\\222\\P0_Results\\Figures\\All_Acc\\HHAR_Box_plot_Acc_Task_3.png\" width=\"400\"></td><td><img src=\"HHAR\\222\\P0_Results\\Figures\\All_Acc\\HHAR_P0_All_Acc.png\" width=\"400\"></td></tr><tr><td><img src=\"HHAR\\222\\P0_Results\\Figures\\New_Acc\\HHAR_P0_New_Acc.png\" width=\"400\"></td><td><img src=\"HHAR\\222\\P0_Results\\Figures\\Old_Acc\\HHAR_P0_Old_Acc.png\" width=\"400\"></td></tr></table><br>"
      ],
      "text/plain": [
       "<IPython.core.display.HTML object>"
      ]
     },
     "metadata": {},
     "output_type": "display_data"
    },
    {
     "data": {
      "text/html": [
       "<h3>HHAR - 222 - P1_Results</h3><table style=\"border-collapse: collapse;\"><tr><tr><td><img src=\"HHAR\\222\\P1_Results\\Figures\\All_Acc\\HHAR_Box_plot_Acc_Task_3.png\" width=\"400\"></td><td><img src=\"HHAR\\222\\P1_Results\\Figures\\All_Acc\\HHAR_P1_All_Acc.png\" width=\"400\"></td></tr><tr><td><img src=\"HHAR\\222\\P1_Results\\Figures\\New_Acc\\HHAR_P1_New_Acc.png\" width=\"400\"></td><td><img src=\"HHAR\\222\\P1_Results\\Figures\\Old_Acc\\HHAR_P1_Old_Acc.png\" width=\"400\"></td></tr></table><br>"
      ],
      "text/plain": [
       "<IPython.core.display.HTML object>"
      ]
     },
     "metadata": {},
     "output_type": "display_data"
    },
    {
     "data": {
      "text/html": [
       "<h3>HHAR - 222 - P2_Results</h3><table style=\"border-collapse: collapse;\"><tr><tr><td><img src=\"HHAR\\222\\P2_Results\\Figures\\All_Acc\\HHAR_Box_plot_Acc_Task_3.png\" width=\"400\"></td><td><img src=\"HHAR\\222\\P2_Results\\Figures\\All_Acc\\HHAR_P2_All_Acc.png\" width=\"400\"></td></tr><tr><td><img src=\"HHAR\\222\\P2_Results\\Figures\\New_Acc\\HHAR_P2_New_Acc.png\" width=\"400\"></td><td><img src=\"HHAR\\222\\P2_Results\\Figures\\Old_Acc\\HHAR_P2_Old_Acc.png\" width=\"400\"></td></tr></table><br>"
      ],
      "text/plain": [
       "<IPython.core.display.HTML object>"
      ]
     },
     "metadata": {},
     "output_type": "display_data"
    },
    {
     "data": {
      "text/html": [
       "<h3>HHAR - 231 - P0_Results</h3><table style=\"border-collapse: collapse;\"><tr><tr><td><img src=\"HHAR\\231\\P0_Results\\Figures\\All_Acc\\HHAR_Box_plot_Acc_Task_3.png\" width=\"400\"></td><td><img src=\"HHAR\\231\\P0_Results\\Figures\\All_Acc\\HHAR_P0_All_Acc.png\" width=\"400\"></td></tr><tr><td><img src=\"HHAR\\231\\P0_Results\\Figures\\New_Acc\\HHAR_P0_New_Acc.png\" width=\"400\"></td><td><img src=\"HHAR\\231\\P0_Results\\Figures\\Old_Acc\\HHAR_P0_Old_Acc.png\" width=\"400\"></td></tr></table><br>"
      ],
      "text/plain": [
       "<IPython.core.display.HTML object>"
      ]
     },
     "metadata": {},
     "output_type": "display_data"
    },
    {
     "data": {
      "text/html": [
       "<h3>HHAR - 231 - P1_Results</h3><table style=\"border-collapse: collapse;\"><tr><tr><td><img src=\"HHAR\\231\\P1_Results\\Figures\\All_Acc\\HHAR_Box_plot_Acc_Task_3.png\" width=\"400\"></td><td><img src=\"HHAR\\231\\P1_Results\\Figures\\All_Acc\\HHAR_P1_All_Acc.png\" width=\"400\"></td></tr><tr><td><img src=\"HHAR\\231\\P1_Results\\Figures\\New_Acc\\HHAR_P1_New_Acc.png\" width=\"400\"></td><td><img src=\"HHAR\\231\\P1_Results\\Figures\\Old_Acc\\HHAR_P1_Old_Acc.png\" width=\"400\"></td></tr></table><br>"
      ],
      "text/plain": [
       "<IPython.core.display.HTML object>"
      ]
     },
     "metadata": {},
     "output_type": "display_data"
    },
    {
     "data": {
      "text/html": [
       "<h3>HHAR - 231 - P2_Results</h3><table style=\"border-collapse: collapse;\"><tr><tr><td><img src=\"HHAR\\231\\P2_Results\\Figures\\All_Acc\\HHAR_Box_plot_Acc_Task_3.png\" width=\"400\"></td><td><img src=\"HHAR\\231\\P2_Results\\Figures\\All_Acc\\HHAR_P2_All_Acc.png\" width=\"400\"></td></tr><tr><td><img src=\"HHAR\\231\\P2_Results\\Figures\\New_Acc\\HHAR_P2_New_Acc.png\" width=\"400\"></td><td><img src=\"HHAR\\231\\P2_Results\\Figures\\Old_Acc\\HHAR_P2_Old_Acc.png\" width=\"400\"></td></tr></table><br>"
      ],
      "text/plain": [
       "<IPython.core.display.HTML object>"
      ]
     },
     "metadata": {},
     "output_type": "display_data"
    },
    {
     "data": {
      "text/html": [
       "<h3>HHAR - 321 - P0_Results</h3><table style=\"border-collapse: collapse;\"><tr><tr><td><img src=\"HHAR\\321\\P0_Results\\Figures\\All_Acc\\HHAR_Box_plot_Acc_Task_3.png\" width=\"400\"></td><td><img src=\"HHAR\\321\\P0_Results\\Figures\\All_Acc\\HHAR_P0_All_Acc.png\" width=\"400\"></td></tr><tr><td><img src=\"HHAR\\321\\P0_Results\\Figures\\New_Acc\\HHAR_P0_New_Acc.png\" width=\"400\"></td><td><img src=\"HHAR\\321\\P0_Results\\Figures\\Old_Acc\\HHAR_P0_Old_Acc.png\" width=\"400\"></td></tr></table><br>"
      ],
      "text/plain": [
       "<IPython.core.display.HTML object>"
      ]
     },
     "metadata": {},
     "output_type": "display_data"
    },
    {
     "data": {
      "text/html": [
       "<h3>HHAR - 321 - P1_Results</h3><table style=\"border-collapse: collapse;\"><tr><tr><td><img src=\"HHAR\\321\\P1_Results\\Figures\\All_Acc\\HHAR_Box_plot_Acc_Task_3.png\" width=\"400\"></td><td><img src=\"HHAR\\321\\P1_Results\\Figures\\All_Acc\\HHAR_P1_All_Acc.png\" width=\"400\"></td></tr><tr><td><img src=\"HHAR\\321\\P1_Results\\Figures\\New_Acc\\HHAR_P1_New_Acc.png\" width=\"400\"></td><td><img src=\"HHAR\\321\\P1_Results\\Figures\\Old_Acc\\HHAR_P1_Old_Acc.png\" width=\"400\"></td></tr></table><br>"
      ],
      "text/plain": [
       "<IPython.core.display.HTML object>"
      ]
     },
     "metadata": {},
     "output_type": "display_data"
    },
    {
     "data": {
      "text/html": [
       "<h3>HHAR - 321 - P2_Results</h3><table style=\"border-collapse: collapse;\"><tr><tr><td><img src=\"HHAR\\321\\P2_Results\\Figures\\All_Acc\\HHAR_Box_plot_Acc_Task_3.png\" width=\"400\"></td><td><img src=\"HHAR\\321\\P2_Results\\Figures\\All_Acc\\HHAR_P2_All_Acc.png\" width=\"400\"></td></tr><tr><td><img src=\"HHAR\\321\\P2_Results\\Figures\\New_Acc\\HHAR_P2_New_Acc.png\" width=\"400\"></td><td><img src=\"HHAR\\321\\P2_Results\\Figures\\Old_Acc\\HHAR_P2_Old_Acc.png\" width=\"400\"></td></tr></table><br>"
      ],
      "text/plain": [
       "<IPython.core.display.HTML object>"
      ]
     },
     "metadata": {},
     "output_type": "display_data"
    },
    {
     "data": {
      "text/html": [
       "<h3>HHAR - 3111 - P0_Results</h3><table style=\"border-collapse: collapse;\"><tr><tr><td><img src=\"HHAR\\3111\\P0_Results\\Figures\\All_Acc\\HHAR_Box_plot_Acc_Task_4.png\" width=\"400\"></td><td><img src=\"HHAR\\3111\\P0_Results\\Figures\\All_Acc\\HHAR_P0_All_Acc.png\" width=\"400\"></td></tr><tr><td><img src=\"HHAR\\3111\\P0_Results\\Figures\\New_Acc\\HHAR_P0_New_Acc.png\" width=\"400\"></td><td><img src=\"HHAR\\3111\\P0_Results\\Figures\\Old_Acc\\HHAR_P0_Old_Acc.png\" width=\"400\"></td></tr></table><br>"
      ],
      "text/plain": [
       "<IPython.core.display.HTML object>"
      ]
     },
     "metadata": {},
     "output_type": "display_data"
    },
    {
     "data": {
      "text/html": [
       "<h3>HHAR - 3111 - P1_Results</h3><table style=\"border-collapse: collapse;\"><tr><tr><td><img src=\"HHAR\\3111\\P1_Results\\Figures\\All_Acc\\HHAR_Box_plot_Acc_Task_4.png\" width=\"400\"></td><td><img src=\"HHAR\\3111\\P1_Results\\Figures\\All_Acc\\HHAR_P1_All_Acc.png\" width=\"400\"></td></tr><tr><td><img src=\"HHAR\\3111\\P1_Results\\Figures\\New_Acc\\HHAR_P1_New_Acc.png\" width=\"400\"></td><td><img src=\"HHAR\\3111\\P1_Results\\Figures\\Old_Acc\\HHAR_P1_Old_Acc.png\" width=\"400\"></td></tr></table><br>"
      ],
      "text/plain": [
       "<IPython.core.display.HTML object>"
      ]
     },
     "metadata": {},
     "output_type": "display_data"
    },
    {
     "data": {
      "text/html": [
       "<h3>HHAR - 3111 - P2_Results</h3><table style=\"border-collapse: collapse;\"><tr><tr><td><img src=\"HHAR\\3111\\P2_Results\\Figures\\All_Acc\\HHAR_Box_plot_Acc_Task_4.png\" width=\"400\"></td><td><img src=\"HHAR\\3111\\P2_Results\\Figures\\All_Acc\\HHAR_P2_All_Acc.png\" width=\"400\"></td></tr><tr><td><img src=\"HHAR\\3111\\P2_Results\\Figures\\New_Acc\\HHAR_P2_New_Acc.png\" width=\"400\"></td><td><img src=\"HHAR\\3111\\P2_Results\\Figures\\Old_Acc\\HHAR_P2_Old_Acc.png\" width=\"400\"></td></tr></table><br>"
      ],
      "text/plain": [
       "<IPython.core.display.HTML object>"
      ]
     },
     "metadata": {},
     "output_type": "display_data"
    },
    {
     "data": {
      "text/html": [
       "<h3>HHAR - 21111 - P0_Results</h3><table style=\"border-collapse: collapse;\"><tr><tr><td><img src=\"HHAR\\21111\\P0_Results\\Figures\\All_Acc\\HHAR_Box_plot_Acc_Task_5.png\" width=\"400\"></td><td><img src=\"HHAR\\21111\\P0_Results\\Figures\\All_Acc\\HHAR_P0_All_Acc.png\" width=\"400\"></td></tr><tr><td><img src=\"HHAR\\21111\\P0_Results\\Figures\\New_Acc\\HHAR_P0_New_Acc.png\" width=\"400\"></td><td><img src=\"HHAR\\21111\\P0_Results\\Figures\\Old_Acc\\HHAR_P0_Old_Acc.png\" width=\"400\"></td></tr></table><br>"
      ],
      "text/plain": [
       "<IPython.core.display.HTML object>"
      ]
     },
     "metadata": {},
     "output_type": "display_data"
    },
    {
     "data": {
      "text/html": [
       "<h3>HHAR - 21111 - P1_Results</h3><table style=\"border-collapse: collapse;\"><tr><tr><td><img src=\"HHAR\\21111\\P1_Results\\Figures\\All_Acc\\HHAR_Box_plot_Acc_Task_5.png\" width=\"400\"></td><td><img src=\"HHAR\\21111\\P1_Results\\Figures\\All_Acc\\HHAR_P1_All_Acc.png\" width=\"400\"></td></tr><tr><td><img src=\"HHAR\\21111\\P1_Results\\Figures\\New_Acc\\HHAR_P1_New_Acc.png\" width=\"400\"></td><td><img src=\"HHAR\\21111\\P1_Results\\Figures\\Old_Acc\\HHAR_P1_Old_Acc.png\" width=\"400\"></td></tr></table><br>"
      ],
      "text/plain": [
       "<IPython.core.display.HTML object>"
      ]
     },
     "metadata": {},
     "output_type": "display_data"
    },
    {
     "data": {
      "text/html": [
       "<h3>HHAR - 21111 - P2_Results</h3><table style=\"border-collapse: collapse;\"><tr><tr><td><img src=\"HHAR\\21111\\P2_Results\\Figures\\All_Acc\\HHAR_Box_plot_Acc_Task_5.png\" width=\"400\"></td><td><img src=\"HHAR\\21111\\P2_Results\\Figures\\All_Acc\\HHAR_P2_All_Acc.png\" width=\"400\"></td></tr><tr><td><img src=\"HHAR\\21111\\P2_Results\\Figures\\New_Acc\\HHAR_P2_New_Acc.png\" width=\"400\"></td><td><img src=\"HHAR\\21111\\P2_Results\\Figures\\Old_Acc\\HHAR_P2_Old_Acc.png\" width=\"400\"></td></tr></table><br>"
      ],
      "text/plain": [
       "<IPython.core.display.HTML object>"
      ]
     },
     "metadata": {},
     "output_type": "display_data"
    },
    {
     "data": {
      "text/html": [
       "<h3>MotionSense - 33 - P0_Results</h3><table style=\"border-collapse: collapse;\"><tr><tr><td><img src=\"MotionSense\\33\\P0_Results\\Figures\\All_Acc\\MotionSense_Box_plot_Acc_Task_2.png\" width=\"400\"></td><td><img src=\"MotionSense\\33\\P0_Results\\Figures\\All_Acc\\MotionSense_P0_All_Acc.png\" width=\"400\"></td></tr><tr><td><img src=\"MotionSense\\33\\P0_Results\\Figures\\New_Acc\\MotionSense_P0_New_Acc.png\" width=\"400\"></td><td><img src=\"MotionSense\\33\\P0_Results\\Figures\\Old_Acc\\MotionSense_P0_Old_Acc.png\" width=\"400\"></td></tr></table><br>"
      ],
      "text/plain": [
       "<IPython.core.display.HTML object>"
      ]
     },
     "metadata": {},
     "output_type": "display_data"
    },
    {
     "data": {
      "text/html": [
       "<h3>MotionSense - 33 - P1_Results</h3><table style=\"border-collapse: collapse;\"><tr><tr><td><img src=\"MotionSense\\33\\P1_Results\\Figures\\All_Acc\\MotionSense_Box_plot_Acc_Task_2.png\" width=\"400\"></td><td><img src=\"MotionSense\\33\\P1_Results\\Figures\\All_Acc\\MotionSense_P1_All_Acc.png\" width=\"400\"></td></tr><tr><td><img src=\"MotionSense\\33\\P1_Results\\Figures\\New_Acc\\MotionSense_P1_New_Acc.png\" width=\"400\"></td><td><img src=\"MotionSense\\33\\P1_Results\\Figures\\Old_Acc\\MotionSense_P1_Old_Acc.png\" width=\"400\"></td></tr></table><br>"
      ],
      "text/plain": [
       "<IPython.core.display.HTML object>"
      ]
     },
     "metadata": {},
     "output_type": "display_data"
    },
    {
     "data": {
      "text/html": [
       "<h3>MotionSense - 33 - P2_Results</h3><table style=\"border-collapse: collapse;\"><tr><tr><td><img src=\"MotionSense\\33\\P2_Results\\Figures\\All_Acc\\MotionSense_Box_plot_Acc_Task_2.png\" width=\"400\"></td><td><img src=\"MotionSense\\33\\P2_Results\\Figures\\All_Acc\\MotionSense_P2_All_Acc.png\" width=\"400\"></td></tr><tr><td><img src=\"MotionSense\\33\\P2_Results\\Figures\\New_Acc\\MotionSense_P2_New_Acc.png\" width=\"400\"></td><td><img src=\"MotionSense\\33\\P2_Results\\Figures\\Old_Acc\\MotionSense_P2_Old_Acc.png\" width=\"400\"></td></tr></table><br>"
      ],
      "text/plain": [
       "<IPython.core.display.HTML object>"
      ]
     },
     "metadata": {},
     "output_type": "display_data"
    },
    {
     "data": {
      "text/html": [
       "<h3>MotionSense - 42 - P0_Results</h3><table style=\"border-collapse: collapse;\"><tr><tr><td><img src=\"MotionSense\\42\\P0_Results\\Figures\\All_Acc\\MotionSense_Box_plot_Acc_Task_2.png\" width=\"400\"></td><td><img src=\"MotionSense\\42\\P0_Results\\Figures\\All_Acc\\MotionSense_P0_All_Acc.png\" width=\"400\"></td></tr><tr><td><img src=\"MotionSense\\42\\P0_Results\\Figures\\New_Acc\\MotionSense_P0_New_Acc.png\" width=\"400\"></td><td><img src=\"MotionSense\\42\\P0_Results\\Figures\\Old_Acc\\MotionSense_P0_Old_Acc.png\" width=\"400\"></td></tr></table><br>"
      ],
      "text/plain": [
       "<IPython.core.display.HTML object>"
      ]
     },
     "metadata": {},
     "output_type": "display_data"
    },
    {
     "data": {
      "text/html": [
       "<h3>MotionSense - 42 - P1_Results</h3><table style=\"border-collapse: collapse;\"><tr><tr><td><img src=\"MotionSense\\42\\P1_Results\\Figures\\All_Acc\\MotionSense_Box_plot_Acc_Task_2.png\" width=\"400\"></td><td><img src=\"MotionSense\\42\\P1_Results\\Figures\\All_Acc\\MotionSense_P1_All_Acc.png\" width=\"400\"></td></tr><tr><td><img src=\"MotionSense\\42\\P1_Results\\Figures\\New_Acc\\MotionSense_P1_New_Acc.png\" width=\"400\"></td><td><img src=\"MotionSense\\42\\P1_Results\\Figures\\Old_Acc\\MotionSense_P1_Old_Acc.png\" width=\"400\"></td></tr></table><br>"
      ],
      "text/plain": [
       "<IPython.core.display.HTML object>"
      ]
     },
     "metadata": {},
     "output_type": "display_data"
    },
    {
     "data": {
      "text/html": [
       "<h3>MotionSense - 42 - P2_Results</h3><table style=\"border-collapse: collapse;\"><tr><tr><td><img src=\"MotionSense\\42\\P2_Results\\Figures\\All_Acc\\MotionSense_Box_plot_Acc_Task_2.png\" width=\"400\"></td><td><img src=\"MotionSense\\42\\P2_Results\\Figures\\All_Acc\\MotionSense_P2_All_Acc.png\" width=\"400\"></td></tr><tr><td><img src=\"MotionSense\\42\\P2_Results\\Figures\\New_Acc\\MotionSense_P2_New_Acc.png\" width=\"400\"></td><td><img src=\"MotionSense\\42\\P2_Results\\Figures\\Old_Acc\\MotionSense_P2_Old_Acc.png\" width=\"400\"></td></tr></table><br>"
      ],
      "text/plain": [
       "<IPython.core.display.HTML object>"
      ]
     },
     "metadata": {},
     "output_type": "display_data"
    },
    {
     "data": {
      "text/html": [
       "<h3>MotionSense - 222 - P0_Results</h3><table style=\"border-collapse: collapse;\"><tr><tr><td><img src=\"MotionSense\\222\\P0_Results\\Figures\\All_Acc\\MotionSense_Box_plot_Acc_Task_3.png\" width=\"400\"></td><td><img src=\"MotionSense\\222\\P0_Results\\Figures\\All_Acc\\MotionSense_P0_All_Acc.png\" width=\"400\"></td></tr><tr><td><img src=\"MotionSense\\222\\P0_Results\\Figures\\New_Acc\\MotionSense_P0_New_Acc.png\" width=\"400\"></td><td><img src=\"MotionSense\\222\\P0_Results\\Figures\\Old_Acc\\MotionSense_P0_Old_Acc.png\" width=\"400\"></td></tr></table><br>"
      ],
      "text/plain": [
       "<IPython.core.display.HTML object>"
      ]
     },
     "metadata": {},
     "output_type": "display_data"
    },
    {
     "data": {
      "text/html": [
       "<h3>MotionSense - 222 - P1_Results</h3><table style=\"border-collapse: collapse;\"><tr><tr><td><img src=\"MotionSense\\222\\P1_Results\\Figures\\All_Acc\\MotionSense_Box_plot_Acc_Task_3.png\" width=\"400\"></td><td><img src=\"MotionSense\\222\\P1_Results\\Figures\\All_Acc\\MotionSense_P1_All_Acc.png\" width=\"400\"></td></tr><tr><td><img src=\"MotionSense\\222\\P1_Results\\Figures\\New_Acc\\MotionSense_P1_New_Acc.png\" width=\"400\"></td><td><img src=\"MotionSense\\222\\P1_Results\\Figures\\Old_Acc\\MotionSense_P1_Old_Acc.png\" width=\"400\"></td></tr></table><br>"
      ],
      "text/plain": [
       "<IPython.core.display.HTML object>"
      ]
     },
     "metadata": {},
     "output_type": "display_data"
    },
    {
     "data": {
      "text/html": [
       "<h3>MotionSense - 222 - P2_Results</h3><table style=\"border-collapse: collapse;\"><tr><tr><td><img src=\"MotionSense\\222\\P2_Results\\Figures\\All_Acc\\MotionSense_Box_plot_Acc_Task_3.png\" width=\"400\"></td><td><img src=\"MotionSense\\222\\P2_Results\\Figures\\All_Acc\\MotionSense_P2_All_Acc.png\" width=\"400\"></td></tr><tr><td><img src=\"MotionSense\\222\\P2_Results\\Figures\\New_Acc\\MotionSense_P2_New_Acc.png\" width=\"400\"></td><td><img src=\"MotionSense\\222\\P2_Results\\Figures\\Old_Acc\\MotionSense_P2_Old_Acc.png\" width=\"400\"></td></tr></table><br>"
      ],
      "text/plain": [
       "<IPython.core.display.HTML object>"
      ]
     },
     "metadata": {},
     "output_type": "display_data"
    },
    {
     "data": {
      "text/html": [
       "<h3>MotionSense - 231 - P0_Results</h3><table style=\"border-collapse: collapse;\"><tr><tr><td><img src=\"MotionSense\\231\\P0_Results\\Figures\\All_Acc\\MotionSense_Box_plot_Acc_Task_3.png\" width=\"400\"></td><td><img src=\"MotionSense\\231\\P0_Results\\Figures\\All_Acc\\MotionSense_P0_All_Acc.png\" width=\"400\"></td></tr><tr><td><img src=\"MotionSense\\231\\P0_Results\\Figures\\New_Acc\\MotionSense_P0_New_Acc.png\" width=\"400\"></td><td><img src=\"MotionSense\\231\\P0_Results\\Figures\\Old_Acc\\MotionSense_P0_Old_Acc.png\" width=\"400\"></td></tr></table><br>"
      ],
      "text/plain": [
       "<IPython.core.display.HTML object>"
      ]
     },
     "metadata": {},
     "output_type": "display_data"
    },
    {
     "data": {
      "text/html": [
       "<h3>MotionSense - 231 - P1_Results</h3><table style=\"border-collapse: collapse;\"><tr><tr><td><img src=\"MotionSense\\231\\P1_Results\\Figures\\All_Acc\\MotionSense_Box_plot_Acc_Task_3.png\" width=\"400\"></td><td><img src=\"MotionSense\\231\\P1_Results\\Figures\\All_Acc\\MotionSense_P1_All_Acc.png\" width=\"400\"></td></tr><tr><td><img src=\"MotionSense\\231\\P1_Results\\Figures\\New_Acc\\MotionSense_P1_New_Acc.png\" width=\"400\"></td><td><img src=\"MotionSense\\231\\P1_Results\\Figures\\Old_Acc\\MotionSense_P1_Old_Acc.png\" width=\"400\"></td></tr></table><br>"
      ],
      "text/plain": [
       "<IPython.core.display.HTML object>"
      ]
     },
     "metadata": {},
     "output_type": "display_data"
    },
    {
     "data": {
      "text/html": [
       "<h3>MotionSense - 231 - P2_Results</h3><table style=\"border-collapse: collapse;\"><tr><tr><td><img src=\"MotionSense\\231\\P2_Results\\Figures\\All_Acc\\MotionSense_Box_plot_Acc_Task_3.png\" width=\"400\"></td><td><img src=\"MotionSense\\231\\P2_Results\\Figures\\All_Acc\\MotionSense_P2_All_Acc.png\" width=\"400\"></td></tr><tr><td><img src=\"MotionSense\\231\\P2_Results\\Figures\\New_Acc\\MotionSense_P2_New_Acc.png\" width=\"400\"></td><td><img src=\"MotionSense\\231\\P2_Results\\Figures\\Old_Acc\\MotionSense_P2_Old_Acc.png\" width=\"400\"></td></tr></table><br>"
      ],
      "text/plain": [
       "<IPython.core.display.HTML object>"
      ]
     },
     "metadata": {},
     "output_type": "display_data"
    },
    {
     "data": {
      "text/html": [
       "<h3>MotionSense - 321 - P0_Results</h3><table style=\"border-collapse: collapse;\"><tr><tr><td><img src=\"MotionSense\\321\\P0_Results\\Figures\\All_Acc\\MotionSense_Box_plot_Acc_Task_3.png\" width=\"400\"></td><td><img src=\"MotionSense\\321\\P0_Results\\Figures\\All_Acc\\MotionSense_P0_All_Acc.png\" width=\"400\"></td></tr><tr><td><img src=\"MotionSense\\321\\P0_Results\\Figures\\New_Acc\\MotionSense_P0_New_Acc.png\" width=\"400\"></td><td><img src=\"MotionSense\\321\\P0_Results\\Figures\\Old_Acc\\MotionSense_P0_Old_Acc.png\" width=\"400\"></td></tr></table><br>"
      ],
      "text/plain": [
       "<IPython.core.display.HTML object>"
      ]
     },
     "metadata": {},
     "output_type": "display_data"
    },
    {
     "data": {
      "text/html": [
       "<h3>MotionSense - 321 - P1_Results</h3><table style=\"border-collapse: collapse;\"><tr><tr><td><img src=\"MotionSense\\321\\P1_Results\\Figures\\All_Acc\\MotionSense_Box_plot_Acc_Task_3.png\" width=\"400\"></td><td><img src=\"MotionSense\\321\\P1_Results\\Figures\\All_Acc\\MotionSense_P1_All_Acc.png\" width=\"400\"></td></tr><tr><td><img src=\"MotionSense\\321\\P1_Results\\Figures\\New_Acc\\MotionSense_P1_New_Acc.png\" width=\"400\"></td><td><img src=\"MotionSense\\321\\P1_Results\\Figures\\Old_Acc\\MotionSense_P1_Old_Acc.png\" width=\"400\"></td></tr></table><br>"
      ],
      "text/plain": [
       "<IPython.core.display.HTML object>"
      ]
     },
     "metadata": {},
     "output_type": "display_data"
    },
    {
     "data": {
      "text/html": [
       "<h3>MotionSense - 321 - P2_Results</h3><table style=\"border-collapse: collapse;\"><tr><tr><td><img src=\"MotionSense\\321\\P2_Results\\Figures\\All_Acc\\MotionSense_Box_plot_Acc_Task_3.png\" width=\"400\"></td><td><img src=\"MotionSense\\321\\P2_Results\\Figures\\All_Acc\\MotionSense_P2_All_Acc.png\" width=\"400\"></td></tr><tr><td><img src=\"MotionSense\\321\\P2_Results\\Figures\\New_Acc\\MotionSense_P2_New_Acc.png\" width=\"400\"></td><td><img src=\"MotionSense\\321\\P2_Results\\Figures\\Old_Acc\\MotionSense_P2_Old_Acc.png\" width=\"400\"></td></tr></table><br>"
      ],
      "text/plain": [
       "<IPython.core.display.HTML object>"
      ]
     },
     "metadata": {},
     "output_type": "display_data"
    },
    {
     "data": {
      "text/html": [
       "<h3>MotionSense - 3111 - P0_Results</h3><table style=\"border-collapse: collapse;\"><tr><tr><td><img src=\"MotionSense\\3111\\P0_Results\\Figures\\All_Acc\\MotionSense_Box_plot_Acc_Task_4.png\" width=\"400\"></td><td><img src=\"MotionSense\\3111\\P0_Results\\Figures\\All_Acc\\MotionSense_P0_All_Acc.png\" width=\"400\"></td></tr><tr><td><img src=\"MotionSense\\3111\\P0_Results\\Figures\\New_Acc\\MotionSense_P0_New_Acc.png\" width=\"400\"></td><td><img src=\"MotionSense\\3111\\P0_Results\\Figures\\Old_Acc\\MotionSense_P0_Old_Acc.png\" width=\"400\"></td></tr></table><br>"
      ],
      "text/plain": [
       "<IPython.core.display.HTML object>"
      ]
     },
     "metadata": {},
     "output_type": "display_data"
    },
    {
     "data": {
      "text/html": [
       "<h3>MotionSense - 3111 - P1_Results</h3><table style=\"border-collapse: collapse;\"><tr><tr><td><img src=\"MotionSense\\3111\\P1_Results\\Figures\\All_Acc\\MotionSense_Box_plot_Acc_Task_4.png\" width=\"400\"></td><td><img src=\"MotionSense\\3111\\P1_Results\\Figures\\All_Acc\\MotionSense_P1_All_Acc.png\" width=\"400\"></td></tr><tr><td><img src=\"MotionSense\\3111\\P1_Results\\Figures\\New_Acc\\MotionSense_P1_New_Acc.png\" width=\"400\"></td><td><img src=\"MotionSense\\3111\\P1_Results\\Figures\\Old_Acc\\MotionSense_P1_Old_Acc.png\" width=\"400\"></td></tr></table><br>"
      ],
      "text/plain": [
       "<IPython.core.display.HTML object>"
      ]
     },
     "metadata": {},
     "output_type": "display_data"
    },
    {
     "data": {
      "text/html": [
       "<h3>MotionSense - 3111 - P2_Results</h3><table style=\"border-collapse: collapse;\"><tr><tr><td><img src=\"MotionSense\\3111\\P2_Results\\Figures\\All_Acc\\MotionSense_Box_plot_Acc_Task_4.png\" width=\"400\"></td><td><img src=\"MotionSense\\3111\\P2_Results\\Figures\\All_Acc\\MotionSense_P2_All_Acc.png\" width=\"400\"></td></tr><tr><td><img src=\"MotionSense\\3111\\P2_Results\\Figures\\New_Acc\\MotionSense_P2_New_Acc.png\" width=\"400\"></td><td><img src=\"MotionSense\\3111\\P2_Results\\Figures\\Old_Acc\\MotionSense_P2_Old_Acc.png\" width=\"400\"></td></tr></table><br>"
      ],
      "text/plain": [
       "<IPython.core.display.HTML object>"
      ]
     },
     "metadata": {},
     "output_type": "display_data"
    },
    {
     "data": {
      "text/html": [
       "<h3>MotionSense - 21111 - P0_Results</h3><table style=\"border-collapse: collapse;\"><tr><tr><td><img src=\"MotionSense\\21111\\P0_Results\\Figures\\All_Acc\\MotionSense_Box_plot_Acc_Task_5.png\" width=\"400\"></td><td><img src=\"MotionSense\\21111\\P0_Results\\Figures\\All_Acc\\MotionSense_P0_All_Acc.png\" width=\"400\"></td></tr><tr><td><img src=\"MotionSense\\21111\\P0_Results\\Figures\\New_Acc\\MotionSense_P0_New_Acc.png\" width=\"400\"></td><td><img src=\"MotionSense\\21111\\P0_Results\\Figures\\Old_Acc\\MotionSense_P0_Old_Acc.png\" width=\"400\"></td></tr></table><br>"
      ],
      "text/plain": [
       "<IPython.core.display.HTML object>"
      ]
     },
     "metadata": {},
     "output_type": "display_data"
    },
    {
     "data": {
      "text/html": [
       "<h3>MotionSense - 21111 - P1_Results</h3><table style=\"border-collapse: collapse;\"><tr><tr><td><img src=\"MotionSense\\21111\\P1_Results\\Figures\\All_Acc\\MotionSense_Box_plot_Acc_Task_5.png\" width=\"400\"></td><td><img src=\"MotionSense\\21111\\P1_Results\\Figures\\All_Acc\\MotionSense_P1_All_Acc.png\" width=\"400\"></td></tr><tr><td><img src=\"MotionSense\\21111\\P1_Results\\Figures\\New_Acc\\MotionSense_P1_New_Acc.png\" width=\"400\"></td><td><img src=\"MotionSense\\21111\\P1_Results\\Figures\\Old_Acc\\MotionSense_P1_Old_Acc.png\" width=\"400\"></td></tr></table><br>"
      ],
      "text/plain": [
       "<IPython.core.display.HTML object>"
      ]
     },
     "metadata": {},
     "output_type": "display_data"
    },
    {
     "data": {
      "text/html": [
       "<h3>MotionSense - 21111 - P2_Results</h3><table style=\"border-collapse: collapse;\"><tr><tr><td><img src=\"MotionSense\\21111\\P2_Results\\Figures\\All_Acc\\MotionSense_Box_plot_Acc_Task_5.png\" width=\"400\"></td><td><img src=\"MotionSense\\21111\\P2_Results\\Figures\\All_Acc\\MotionSense_P2_All_Acc.png\" width=\"400\"></td></tr><tr><td><img src=\"MotionSense\\21111\\P2_Results\\Figures\\New_Acc\\MotionSense_P2_New_Acc.png\" width=\"400\"></td><td><img src=\"MotionSense\\21111\\P2_Results\\Figures\\Old_Acc\\MotionSense_P2_Old_Acc.png\" width=\"400\"></td></tr></table><br>"
      ],
      "text/plain": [
       "<IPython.core.display.HTML object>"
      ]
     },
     "metadata": {},
     "output_type": "display_data"
    }
   ],
   "source": [
    "import os\n",
    "import re\n",
    "from IPython.display import display, HTML\n",
    "\n",
    "# Define dataset structure\n",
    "datasets = [\"HHAR\", \"MotionSense\"]  # Add \"UCI\" if needed\n",
    "scenarios = [\"33\", \"42\", \"222\", \"231\", \"321\", \"3111\", \"21111\"]\n",
    "persons = [\"P0_Results\", \"P1_Results\", \"P2_Results\"]\n",
    "acc_types = [\"All_Acc\", \"New_Acc\", \"Old_Acc\"]\n",
    "\n",
    "# Function to find the latest task number from boxplot filenames\n",
    "def find_latest_task(folder_path):\n",
    "    boxplot_files = [f for f in os.listdir(folder_path) if re.match(r\".*_Box_plot_Acc_Task_\\d+\\.png$\", f)]\n",
    "    if not boxplot_files:\n",
    "        return None\n",
    "    latest_file = max(boxplot_files, key=lambda f: int(re.search(r\"Task_(\\d+)\", f).group(1)))\n",
    "    return latest_file\n",
    "\n",
    "# Loop through datasets, scenarios, and persons\n",
    "for dataset in datasets:\n",
    "    for scenario in scenarios:\n",
    "        for person in persons:\n",
    "            html_content = f\"<h3>{dataset} - {scenario} - {person}</h3>\"\n",
    "            html_content += '<table style=\"border-collapse: collapse;\"><tr>'\n",
    "\n",
    "            # Collect images for this scenario & person\n",
    "            row1 = []  # First row (Boxplot + All_Acc Barchart)\n",
    "            row2 = []  # Second row (New_Acc + Old_Acc Barcharts)\n",
    "\n",
    "            for acc in acc_types:\n",
    "                folder_path = os.path.abspath(f\"{dataset}/{scenario}/{person}/Figures/{acc}\")\n",
    "\n",
    "                if not os.path.exists(folder_path):\n",
    "                    print(f\"❌ Folder Not Found: {folder_path}\")  # Debug\n",
    "                    continue\n",
    "\n",
    "                # Find the boxplot for All_Acc (only need one)\n",
    "                if acc == \"All_Acc\":\n",
    "                    latest_boxplot_file = find_latest_task(folder_path)\n",
    "                    if latest_boxplot_file:\n",
    "                        boxplot_path = os.path.join(folder_path, latest_boxplot_file)\n",
    "                        rel_boxplot_path = os.path.relpath(boxplot_path, os.getcwd())  # Relative path\n",
    "                        row1.append(f'<td><img src=\"{rel_boxplot_path}\" width=\"400\"></td>')\n",
    "\n",
    "                # Find the bar chart for each acc type\n",
    "                barchart_file = next((f for f in os.listdir(folder_path) if f.endswith(\"Acc.png\") and \"Box_plot\" not in f), None)\n",
    "                if barchart_file:\n",
    "                    barchart_path = os.path.join(folder_path, barchart_file)\n",
    "                    rel_barchart_path = os.path.relpath(barchart_path, os.getcwd())  # Relative path\n",
    "\n",
    "                    if acc == \"All_Acc\":\n",
    "                        row1.append(f'<td><img src=\"{rel_barchart_path}\" width=\"400\"></td>')\n",
    "                    elif acc == \"New_Acc\":\n",
    "                        row2.append(f'<td><img src=\"{rel_barchart_path}\" width=\"400\"></td>')\n",
    "                    elif acc == \"Old_Acc\":\n",
    "                        row2.append(f'<td><img src=\"{rel_barchart_path}\" width=\"400\"></td>')\n",
    "\n",
    "            # Ensure exactly 2 images per row\n",
    "            while len(row1) < 2:\n",
    "                row1.append(\"<td></td>\")  # Empty cell if missing images\n",
    "            while len(row2) < 2:\n",
    "                row2.append(\"<td></td>\")  # Empty cell if missing images\n",
    "\n",
    "            # Combine rows into HTML\n",
    "            html_content += \"<tr>\" + \"\".join(row1) + \"</tr>\"\n",
    "            html_content += \"<tr>\" + \"\".join(row2) + \"</tr>\"\n",
    "            html_content += \"</table><br>\"\n",
    "\n",
    "            # Display the formatted layout\n",
    "            display(HTML(html_content))\n"
   ]
  },
  {
   "cell_type": "code",
   "execution_count": null,
   "id": "b1d21ca7-8c6b-43c7-ae24-a60ae569d899",
   "metadata": {},
   "outputs": [],
   "source": []
  }
 ],
 "metadata": {
  "kernelspec": {
   "display_name": "Python 3 (ipykernel)",
   "language": "python",
   "name": "python3"
  },
  "language_info": {
   "codemirror_mode": {
    "name": "ipython",
    "version": 3
   },
   "file_extension": ".py",
   "mimetype": "text/x-python",
   "name": "python",
   "nbconvert_exporter": "python",
   "pygments_lexer": "ipython3",
   "version": "3.12.0"
  }
 },
 "nbformat": 4,
 "nbformat_minor": 5
}
